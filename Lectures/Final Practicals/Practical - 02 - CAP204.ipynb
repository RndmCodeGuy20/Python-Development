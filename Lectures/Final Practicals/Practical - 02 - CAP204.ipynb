{
 "cells": [
  {
   "cell_type": "markdown",
   "metadata": {},
   "source": [
    "# <center> Shri Ramdeobaba College of Engineering and Management, Nagpur</center>\n",
    "## <center>Department of Computer Science Engineering</center>\n",
    "## <center>Python Programming LAB (CAP 201) (2021-2022)</center>\n",
    "## <center>Practical Number 2</center>\n",
    "\n",
    "---"
   ]
  },
  {
   "cell_type": "markdown",
   "metadata": {},
   "source": [
    "#### <strong>Name : </strong> <em>Shantanu Mane</em>\n",
    "#### <strong>Roll Number : </strong> <em>63 (E-4)</em>\n",
    "#### <strong>Section : </strong> <em>E (AIML)</em>\n",
    "#### <strong>Date : </strong> <em>12<sup>th</sup> December 2021</em>"
   ]
  },
  {
   "cell_type": "markdown",
   "metadata": {},
   "source": [
    "## Problem Statements : \n",
    "\n",
    "1. Write a python program to define a tuple of 10 student’s information as roll no., name, address and marks of 3 subjects Physics, Chemistry and Mathematics. The list is sorted by roll no. Your program should display list of three toppers in all students.\n",
    "2. Python program that displays which letters present in the two strings but not in both.\n",
    "3. A List rotation consists of taking the first element and moving it to the end. Write a python that takes a list L and a positive integer k and generate the list L after k rotations. If K is not positive, it should return L unchanged.\n",
    "4. Create a list of tuples, with each tuple having 5 numbers. Perform the addition of 3rd numbers of each tuple.\n",
    "5. Write a python program to Convert a long string to a list and print all the words and their frequencies"
   ]
  },
  {
   "cell_type": "code",
   "execution_count": 2,
   "metadata": {},
   "outputs": [
    {
     "name": "stdout",
     "output_type": "stream",
     "text": [
      "Enter name of student 1 : \n",
      "Enter name of student 2 : \n",
      "Enter name of student 3 : \n",
      "Enter name of student 4 : \n",
      "Enter name of student 5 : \n",
      "\n",
      "\n",
      " [('Shantanu', '1', 'Nagpur', 45, 43, 47, 135), ('Aryan', '3', 'Nagpur', 46, 45, 43, 134), ('Ojas', '5', 'Mumbai', 44, 44, 43, 131), ('Arnav', '2', 'Nagpur', 46, 45, 47, 138), ('Pravin', '4', 'Delhi', 46, 43, 45, 134)]\n",
      "\n",
      "\n",
      "3 class toppers: \n",
      "Arnav\n",
      "Shantanu\n",
      "Pravin\n"
     ]
    }
   ],
   "source": [
    "# Solution 1.\n",
    "\n",
    "n = int(input(\"Enter no. of students: \"))\n",
    "studList = []\n",
    "\n",
    "for i in range(0,n):\n",
    "    print(f\"Enter name of student {i+1} : \")\n",
    "    studName = input(f\"Enter name of student {i+1} : \")\n",
    "    rollNum = input(f\"Enter roll of student {i+1} : \")\n",
    "    studAdd = input(f\"Enter address of student {i+1} : \")\n",
    "    phy = int(input(\"Enter marks in physics : \"))\n",
    "    chem = int(input(\"Enter marks in chemistry: \"))\n",
    "    math = int(input(\"Enter marks in mathematics: \"))\n",
    "    tempList =[]\n",
    "    tempList.append(studName)\n",
    "    tempList.append(rollNum)\n",
    "    tempList.append(studAdd)\n",
    "    tempList.append(phy)\n",
    "    tempList.append(chem)\n",
    "    tempList.append(math)\n",
    "    tempList.append(phy+chem+math)\n",
    "    b = tuple(tempList)\n",
    "    studList.append(b)\n",
    "print(\"\\n\\n\",studList)\n",
    "\n",
    "studList.sort(key=lambda student: student[6]) # sort by total marks\n",
    "studList = studList[::-1]\n",
    "print(\"\\n\\n3 class toppers: \")\n",
    "\n",
    "for i in range(0,3):\n",
    "    print(studList[i][0])"
   ]
  },
  {
   "cell_type": "code",
   "execution_count": 10,
   "metadata": {},
   "outputs": [
    {
     "name": "stdout",
     "output_type": "stream",
     "text": [
      "Word one : shantanu \n",
      "Word two : mane\n",
      "Letters not present in both are : \n",
      "['s', 'h', 't', 'u', 'm', 'e']\n"
     ]
    }
   ],
   "source": [
    "# Solution 2.\n",
    "\n",
    "word1 = str(input(\"Enter word : \"))\n",
    "word2 = str(input(\"Enter word : \"))\n",
    "\n",
    "print(f\"Word one : {word1} \\nWord two : {word2}\")\n",
    "\n",
    "print(\"Letters not present in both are : \")\n",
    "\n",
    "uniqueEl = []\n",
    "\n",
    "for el in word1:\n",
    "    if el not in word2:\n",
    "        uniqueEl.append(el)\n",
    "\n",
    "for el in word2:\n",
    "    if el not in word1:\n",
    "        uniqueEl.append(el)\n",
    "\n",
    "tuple(uniqueEl)\n",
    "print(uniqueEl)"
   ]
  },
  {
   "cell_type": "code",
   "execution_count": 3,
   "metadata": {},
   "outputs": [
    {
     "name": "stdout",
     "output_type": "stream",
     "text": [
      "The list after 3 rotations is : [6, 3, 4, 2, 5, 1]\n"
     ]
    }
   ],
   "source": [
    "# Solution 3.\n",
    "\n",
    "input_list = [2,5,1,6,3,4]\n",
    "num_rotations = int(input(\"Enter number of rotaions : \"))\n",
    "\n",
    "if num_rotations <= 0:\n",
    "    print(f\"List is unchanged {input_list}\")\n",
    "else:\n",
    "    for i in range(num_rotations):\n",
    "        temp = input_list[0]\n",
    "        output_list = input_list[1:]\n",
    "        output_list.append(temp)\n",
    "        input_list = output_list\n",
    "    print(f\"The list after {num_rotations} rotations is : {output_list}\")"
   ]
  },
  {
   "cell_type": "code",
   "execution_count": 2,
   "metadata": {},
   "outputs": [
    {
     "name": "stdout",
     "output_type": "stream",
     "text": [
      "Sum of third element of tuples:  10\n"
     ]
    }
   ],
   "source": [
    "# Solution 4.\n",
    "\n",
    "n = int(input(\"Enter no. of tuples : \"))\n",
    "tupList = []\n",
    "\n",
    "for i in range(0,n):\n",
    "    a = tuple(input(\"Enter tuple: \"))\n",
    "    tupList.append(a)\n",
    "\n",
    "sum = 0\n",
    "for i in tupList:\n",
    "    sum += int(i[2])\n",
    "print(\"Sum of third element of tuples: \",sum)"
   ]
  },
  {
   "cell_type": "code",
   "execution_count": 4,
   "metadata": {},
   "outputs": [
    {
     "name": "stdout",
     "output_type": "stream",
     "text": [
      "['dfyug', 'seiugfy', 'ewguqfqwiuefg', 'eoiurg', 'owieugrc', 'oueqgrcb']\n",
      "dfyug : 1\n",
      "seiugfy : 1\n",
      "ewguqfqwiuefg : 1\n",
      "eoiurg : 1\n",
      "owieugrc : 1\n",
      "oueqgrcb : 1\n"
     ]
    }
   ],
   "source": [
    "# Solution 5.\n",
    "\n",
    "strInput = input(\"Enter the string : \")\n",
    "strList = strInput.split(\" \")\n",
    "\n",
    "print(strList)\n",
    "\n",
    "freqOfWords = {}\n",
    "for i in strList:\n",
    "    freqOfWords[i]=strList.count(i)\n",
    "\n",
    "for key, value in freqOfWords.items():\n",
    "    print (\"%s : %d\"%(key, value))"
   ]
  }
 ],
 "metadata": {
  "interpreter": {
   "hash": "63fd5069d213b44bf678585dea6b12cceca9941eaf7f819626cde1f2670de90d"
  },
  "kernelspec": {
   "display_name": "Python 3.9.7 64-bit",
   "language": "python",
   "name": "python3"
  },
  "language_info": {
   "codemirror_mode": {
    "name": "ipython",
    "version": 3
   },
   "file_extension": ".py",
   "mimetype": "text/x-python",
   "name": "python",
   "nbconvert_exporter": "python",
   "pygments_lexer": "ipython3",
   "version": "3.9.7"
  },
  "orig_nbformat": 4
 },
 "nbformat": 4,
 "nbformat_minor": 2
}
