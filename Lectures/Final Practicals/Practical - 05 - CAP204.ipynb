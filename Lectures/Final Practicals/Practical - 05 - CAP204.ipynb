{
 "cells": [
  {
   "cell_type": "markdown",
   "metadata": {},
   "source": [
    "# <center> Shri Ramdeobaba College of Engineering and Management, Nagpur</center>\n",
    "## <center>Department of Computer Science Engineering</center>\n",
    "## <center>Python Programming LAB (CAP 204) (2021-2022)</center>\n",
    "## <center>Practical - 05</center>\n",
    "\n",
    "---"
   ]
  },
  {
   "cell_type": "markdown",
   "metadata": {},
   "source": [
    "#### <strong>Name : </strong> <em>Shantanu Mane</em>\n",
    "#### <strong>Roll Number : </strong> <em>63 (E-4)</em>\n",
    "#### <strong>Section : </strong> <em>E (AIML)</em>\n",
    "#### <strong>Date : </strong> <em>20<sup>th</sup> January 2022</em>"
   ]
  },
  {
   "cell_type": "code",
   "execution_count": 6,
   "metadata": {},
   "outputs": [
    {
     "name": "stdout",
     "output_type": "stream",
     "text": [
      "Addition of two matrices : \n",
      " [[ 4  3  7  9]\n",
      " [11  7 14 16]\n",
      " [10  7  7 14]\n",
      " [ 3  9  8 15]]\n",
      "\n",
      "Subtraction of two matrices : \n",
      " [[-2  1 -1 -1]\n",
      " [-1  5  0  0]\n",
      " [-6  1  5  2]\n",
      " [-1 -3  2 -1]]\n",
      "\n",
      "Multiplication of two matrices : \n",
      " [[ 47  36  33  71]\n",
      " [123  80  93 179]\n",
      " [ 94  72  66 142]\n",
      " [ 75  61  51 115]]\n"
     ]
    }
   ],
   "source": [
    "# Solution 1.\n",
    "\n",
    "import numpy as np\n",
    "\n",
    "def mtrAdd(mtrA,mtrB):\n",
    "    return mtrA + mtrB\n",
    "\n",
    "def mtrSub(mtrA,mtrB):\n",
    "    return mtrA - mtrB\n",
    "\n",
    "def mtrMul(mtrA,mtrB):\n",
    "    return np.dot(mtrA,mtrB)\n",
    "\n",
    "mtrA = np.array([[1,2,3,4],[5,6,7,8],[2,4,6,8],[1,3,5,7]])\n",
    "mtrB = np.array([[3,1,4,5],[6,1,7,8],[8,3,1,6],[2,6,3,8]])\n",
    "\n",
    "print(\"Addition of two matrices : \\n\",mtrAdd(mtrA, mtrB))\n",
    "print(\"\\nSubtraction of two matrices : \\n\",mtrSub(mtrA, mtrB))\n",
    "print(\"\\nMultiplication of two matrices : \\n\",mtrMul(mtrA, mtrB))"
   ]
  },
  {
   "cell_type": "code",
   "execution_count": 5,
   "metadata": {},
   "outputs": [
    {
     "name": "stdout",
     "output_type": "stream",
     "text": [
      "5 x 2 array with data between 100 and 200 with step value of 10 : \n",
      " [[100 110]\n",
      " [120 130]\n",
      " [140 150]\n",
      " [160 170]\n",
      " [180 190]]\n"
     ]
    }
   ],
   "source": [
    "# Solution 2.\n",
    "\n",
    "CustomArray = np.arange(100,200,10)\n",
    "CustomArray = CustomArray.reshape(5,2)\n",
    "print(\"5 x 2 array with data between 100 and 200 with step value of 10 : \\n\", CustomArray)"
   ]
  },
  {
   "cell_type": "code",
   "execution_count": 12,
   "metadata": {},
   "outputs": [
    {
     "name": "stdout",
     "output_type": "stream",
     "text": [
      "Dot product of matrices : \n",
      " [[34 53 54]\n",
      " [36 57 58]\n",
      " [49 72 78]]\n",
      "\n",
      "Inner product of matrices : \n",
      " [[ 22  41  69]\n",
      " [ 30  51  91]\n",
      " [ 40  63 117]]\n",
      "\n",
      "Cross product of matrices : \n",
      " [[-10   0   5]\n",
      " [ 24 -28  -2]\n",
      " [ 29 -33  19]]\n",
      "\n",
      "Outer product of matrices : \n",
      " [[ 2  8  4  8  6 12 10 18 16]\n",
      " [ 3 12  6 12  9 18 15 27 24]\n",
      " [ 4 16  8 16 12 24 20 36 32]\n",
      " [ 6 24 12 24 18 36 30 54 48]\n",
      " [ 5 20 10 20 15 30 25 45 40]\n",
      " [ 2  8  4  8  6 12 10 18 16]\n",
      " [ 6 24 12 24 18 36 30 54 48]\n",
      " [ 7 28 14 28 21 42 35 63 56]\n",
      " [ 3 12  6 12  9 18 15 27 24]]\n"
     ]
    }
   ],
   "source": [
    "# Solution 3.\n",
    "\n",
    "M1=([[2,3,4], [6,5,2], [6,7,3]])\n",
    "M2=([[1,4,2], [4,3,6],[5,9,8]])\n",
    "\n",
    "print(\"Dot product of matrices : \\n\", np.dot(M1, M2))\n",
    "print(\"\\nInner product of matrices : \\n\", np.inner(M1, M2))\n",
    "print(\"\\nCross product of matrices : \\n\", np.cross(M1, M2))\n",
    "print(\"\\nOuter product of matrices : \\n\", np.outer(M1, M2))"
   ]
  },
  {
   "cell_type": "code",
   "execution_count": 22,
   "metadata": {},
   "outputs": [
    {
     "name": "stdout",
     "output_type": "stream",
     "text": [
      "Marks of students : \n",
      " [50 58 57 44 74 50 68 65 64 48 50 53 71 64 67 45 43 73 49 70 51 74 58 58\n",
      " 40 67 57 51 71 41 42 61 50 45 42 56 75 47 54 69 44 71 61 44 70 44 61 74\n",
      " 68 58 43 67 52 70 48 54 60 58 51 52 43 59 67 42 51 73 71 62 48 52 75 74\n",
      " 75 42 44 70 70 59 63 48] \n",
      "70 percentile of marks :  67.0\n"
     ]
    }
   ],
   "source": [
    "# Solution 4.\n",
    "\n",
    "markList = np.random.randint(40,76,dtype=int,size=80)\n",
    "\n",
    "percentile = np.percentile(markList, 70)\n",
    "\n",
    "print(\"Marks of students : \\n\", markList, \"\\n70 percentile of marks : \", percentile)"
   ]
  },
  {
   "cell_type": "code",
   "execution_count": 27,
   "metadata": {},
   "outputs": [
    {
     "name": "stdout",
     "output_type": "stream",
     "text": [
      "Eigen Values : \n",
      " [18.61713304 -4.50451282  3.88737977] \n",
      "Eigen Vector : \n",
      " [[-0.44798294 -0.82768979  0.36471887]\n",
      " [-0.52339057  0.43844259 -0.77347804]\n",
      " [-0.7248266   0.35028233  0.51837426]]\n"
     ]
    }
   ],
   "source": [
    "# Solution 5.\n",
    "\n",
    "from numpy import linalg\n",
    "\n",
    "Arr = ([[1,4,8], [8,9,2],[9,7,8]])\n",
    "\n",
    "eigenVal, eigenVect = np.linalg.eig(Arr)\n",
    "\n",
    "print(\"Eigen Values : \\n\", eigenVal, \"\\nEigen Vector : \\n\", eigenVect)"
   ]
  },
  {
   "cell_type": "code",
   "execution_count": null,
   "metadata": {},
   "outputs": [],
   "source": []
  }
 ],
 "metadata": {
  "interpreter": {
   "hash": "63fd5069d213b44bf678585dea6b12cceca9941eaf7f819626cde1f2670de90d"
  },
  "kernelspec": {
   "display_name": "Python 3.9.7 64-bit",
   "language": "python",
   "name": "python3"
  },
  "language_info": {
   "codemirror_mode": {
    "name": "ipython",
    "version": 3
   },
   "file_extension": ".py",
   "mimetype": "text/x-python",
   "name": "python",
   "nbconvert_exporter": "python",
   "pygments_lexer": "ipython3",
   "version": "3.9.7"
  },
  "orig_nbformat": 4
 },
 "nbformat": 4,
 "nbformat_minor": 2
}
