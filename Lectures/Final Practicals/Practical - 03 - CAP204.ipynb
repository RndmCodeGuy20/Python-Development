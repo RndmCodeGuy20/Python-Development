{
 "cells": [
  {
   "cell_type": "markdown",
   "metadata": {},
   "source": [
    "# <center> Shri Ramdeobaba College of Engineering and Management, Nagpur</center>\n",
    "## <center>Department of Computer Science Engineering</center>\n",
    "## <center>Python Programming LAB (CAP 201) (2021-2022)</center>\n",
    "## <center>Practical Number 2</center>\n",
    "\n",
    "---"
   ]
  },
  {
   "cell_type": "markdown",
   "metadata": {},
   "source": [
    "#### <strong>Name : </strong> <em>Shantanu Mane</em>\n",
    "#### <strong>Roll Number : </strong> <em>63 (E-4)</em>\n",
    "#### <strong>Section : </strong> <em>E (AIML)</em>\n",
    "#### <strong>Date : </strong> <em>12<sup>th</sup> December 2021</em>"
   ]
  },
  {
   "cell_type": "markdown",
   "metadata": {},
   "source": [
    "## Practical 3.\n",
    "\n",
    "1. Let’s say you have a huge list that contains student grades: Grades = ['A', 'A', 'B', 'C', 'D', 'B', 'B', 'C', 'D', 'E', 'C', 'C', 'A', 'B', 'F', 'D', 'C', 'B', 'C', 'A', 'B', 'F', 'B', 'A', 'E', 'B', 'B', 'C', 'D'] You want to identify distinct grades allotted to students.\n",
    "2. Let’s say you have two lists A and B. Identify the elements which are common in the two lists A and B and return them in a sorted manner.\n",
    "3. Create a SORTED list of all values from the dictionary input_dict = {'Jack Dorsey' : 'Twitter' , 'Tim Cook' : 'Apple', 'Jeff Bezos' : 'Amazon' , 'Mukesh Ambani' : 'RJIO'}\n",
    "4. Write code to fetch the profession of the employee with Employee id entered by the user from an employee input given in the form of a dictionary where key represent employ id and values represent the name, age, and profession (in the same order). Given Dictionary: Employee_data = { 101:['Shiva', 24, 'Content Strategist'] ,102:['Udit',25,'Content Strategist'], 103:['Sonam', 28,'Sr Manager'], 104:['Ansari',29,'Product Lead' ],105:['Huzefa',32,'Project Manager' ]}\n",
    "5. Create a Nested Dictionary Using above table in the format: Olympic = {County1 : {Country Code-1 : {Gold : value , Silver : value , Bronze : value} }, County2 : {Country Code-2 : {Gold : value , Silver : value , Bronze : value} }, ....}\n",
    "   1. Find the country with maximum gold medals\n",
    "   2. Find the countries with more than 20 gold medals\n",
    "   3. Evaluate the Dictionary and print the name of each country with its gold medals and total number of medals"
   ]
  },
  {
   "cell_type": "code",
   "execution_count": 15,
   "metadata": {},
   "outputs": [
    {
     "name": "stdout",
     "output_type": "stream",
     "text": [
      "['A', 'B', 'C', 'D', 'E', 'F']\n"
     ]
    }
   ],
   "source": [
    "# Solution 1.\n",
    "\n",
    "Grades = ['A', 'A', 'B', 'C', 'D', 'B', 'B', 'C', 'D', 'E', 'C', 'C', 'A', 'B', 'F', 'D', 'C', 'B', 'C', 'A', 'B', 'F', 'B', 'A', 'E', 'B', 'B', 'C', 'D']\n",
    "\n",
    "uniqueList = []\n",
    "\n",
    "for i in Grades:\n",
    "    if i not in uniqueList:\n",
    "        uniqueList.append(i)\n",
    "\n",
    "print(uniqueList)"
   ]
  },
  {
   "cell_type": "code",
   "execution_count": 8,
   "metadata": {},
   "outputs": [
    {
     "name": "stdout",
     "output_type": "stream",
     "text": [
      "[1, 3, 5, 7]\n"
     ]
    }
   ],
   "source": [
    "# Solution 2.\n",
    "\n",
    "ListA = [5,1,3,4,4,5,6,7]\n",
    "ListB = [3,3,5,5,1,7,2]\n",
    "commonEl = []\n",
    "commonUniqueEl = []\n",
    "\n",
    "for el in ListA:\n",
    "    if el in ListB:\n",
    "        commonEl.append(el)\n",
    "\n",
    "for i in commonEl:\n",
    "    if i not in commonUniqueEl:\n",
    "        commonUniqueEl.append(i)\n",
    "\n",
    "print(sorted(commonUniqueEl))"
   ]
  },
  {
   "cell_type": "code",
   "execution_count": 11,
   "metadata": {},
   "outputs": [
    {
     "name": "stdout",
     "output_type": "stream",
     "text": [
      "['Amazon', 'Apple', 'RJIO', 'Twitter']\n"
     ]
    }
   ],
   "source": [
    "# Solution 3.\n",
    "\n",
    "input_dict = {'Jack Dorsey' : 'Twitter' , 'Tim Cook' : 'Apple', 'Jeff Bezos' : 'Amazon' , 'Mukesh Ambani' : 'RJIO'}\n",
    "\n",
    "print(sorted(input_dict.values()))"
   ]
  },
  {
   "cell_type": "code",
   "execution_count": 13,
   "metadata": {},
   "outputs": [
    {
     "name": "stdout",
     "output_type": "stream",
     "text": [
      "Project Manager\n"
     ]
    }
   ],
   "source": [
    "# Solution 4.\n",
    "\n",
    "Employee_data = { 101:['Shiva', 24, 'Content Strategist'] ,102:['Udit',25,'Content Strategist'], 103:['Sonam', 28,'Sr Manager'], 104:['Ansari',29,'Product Lead' ],105:['Huzefa',32,'Project Manager' ]}\n",
    "\n",
    "inpEmID = int(input(\"Enter the ID of the employee : \"))\n",
    "\n",
    "print(Employee_data[inpEmID][2])"
   ]
  },
  {
   "cell_type": "code",
   "execution_count": 16,
   "metadata": {},
   "outputs": [],
   "source": [
    "# Solution 5.\n",
    "\n",
    "# Olympic = {Country1 : {Country Code-1 : {Gold : value , Silver : value , Bronze : value} }, Country2 : {Country Code-2 : {Gold : value , Silver : value , Bronze : value} }, ....}\n",
    "\n",
    "Olympic = {\n",
    "    'Great Britain' : {\n",
    "        'GBR' : {\n",
    "            'Gold' : 29, 'Silver': 17, 'Bronze': 19\n",
    "        }\n",
    "    },\n",
    "    'China' : {\n",
    "        'CHN' : {\n",
    "            'Gold' : 38, 'Silver': 28, 'Bronze': 22\n",
    "        }\n",
    "    },\n",
    "    'Russia' : {\n",
    "        'RUS' : {\n",
    "            'Gold' : 24, 'Silver': 25, 'Bronze': 32\n",
    "        }\n",
    "    },\n",
    "    'United States' : {\n",
    "        'US' : {\n",
    "            'Gold' : 46, 'Silver': 28, 'Bronze': 29\n",
    "        }\n",
    "    },\n",
    "    'Korea' : {\n",
    "        'KOR' : {\n",
    "            'Gold' : 13, 'Silver': 8, 'Bronze': 7\n",
    "        }\n",
    "    },\n",
    "    'Japan' : {\n",
    "        'JPN' : {\n",
    "            'Gold' : 7, 'Silver': 14, 'Bronze': 17\n",
    "        }\n",
    "    },\n",
    "    'Germany' : {\n",
    "        'GER' : {\n",
    "            'Gold' : 11, 'Silver': 11, 'Bronze': 14\n",
    "        }\n",
    "    }\n",
    "}"
   ]
  },
  {
   "cell_type": "code",
   "execution_count": 17,
   "metadata": {},
   "outputs": [
    {
     "name": "stdout",
     "output_type": "stream",
     "text": [
      "United States {'US': {'Gold': 46, 'Silver': 28, 'Bronze': 29}} \n",
      "Maximum Gold Value :  46\n"
     ]
    }
   ],
   "source": [
    "# Solution 5.1\n",
    "\n",
    "maxValue = None\n",
    "\n",
    "for CountryKey, CountryVal in Olympic.items():\n",
    "    for CountryCodeKey, CountryCodeVal in dict(CountryVal).items():\n",
    "        if maxValue is None or CountryCodeVal['Gold'] > maxValue:\n",
    "            maxValue = CountryCodeVal['Gold']\n",
    "\n",
    "for CountryKey, CountryVal in Olympic.items():\n",
    "    for CountryCodeKey, CountryCodeVal in dict(CountryVal).items():\n",
    "        if CountryCodeVal['Gold'] == maxValue:\n",
    "            print(CountryKey, CountryVal,\"\\nMaximum Gold Value : \", maxValue)"
   ]
  },
  {
   "cell_type": "code",
   "execution_count": 18,
   "metadata": {},
   "outputs": [
    {
     "name": "stdout",
     "output_type": "stream",
     "text": [
      "Great Britain {'GBR': {'Gold': 29, 'Silver': 17, 'Bronze': 19}}\n",
      "China {'CHN': {'Gold': 38, 'Silver': 28, 'Bronze': 22}}\n",
      "Russia {'RUS': {'Gold': 24, 'Silver': 25, 'Bronze': 32}}\n",
      "United States {'US': {'Gold': 46, 'Silver': 28, 'Bronze': 29}}\n"
     ]
    }
   ],
   "source": [
    "# Solution 5.2\n",
    "\n",
    "for CountryKey, CountryVal in Olympic.items():\n",
    "    for CountryCodeKey, CountryCodeVal in dict(CountryVal).items():\n",
    "        if CountryCodeVal['Gold'] >= 20:\n",
    "            print(CountryKey, CountryVal)"
   ]
  },
  {
   "cell_type": "code",
   "execution_count": 19,
   "metadata": {},
   "outputs": [
    {
     "name": "stdout",
     "output_type": "stream",
     "text": [
      "Great Britain : \n",
      "Gold Medals : 29\n",
      "Total Medals : 65\n",
      "\n",
      "China : \n",
      "Gold Medals : 38\n",
      "Total Medals : 88\n",
      "\n",
      "Russia : \n",
      "Gold Medals : 24\n",
      "Total Medals : 81\n",
      "\n",
      "United States : \n",
      "Gold Medals : 46\n",
      "Total Medals : 103\n",
      "\n",
      "Korea : \n",
      "Gold Medals : 13\n",
      "Total Medals : 28\n",
      "\n",
      "Japan : \n",
      "Gold Medals : 7\n",
      "Total Medals : 38\n",
      "\n",
      "Germany : \n",
      "Gold Medals : 11\n",
      "Total Medals : 36\n",
      "\n"
     ]
    }
   ],
   "source": [
    "for CountryKey, CountryVal in Olympic.items():\n",
    "    for CountryCodeKey, CountryCodeVal in dict(CountryVal).items():\n",
    "        print(f\"{CountryKey} : \\nGold Medals : {CountryCodeVal['Gold']}\\nTotal Medals : {CountryCodeVal['Gold'] + CountryCodeVal['Silver'] + CountryCodeVal['Bronze']}\\n\")"
   ]
  },
  {
   "cell_type": "code",
   "execution_count": 2,
   "metadata": {},
   "outputs": [],
   "source": [
    "ls = [38,23,2398]"
   ]
  },
  {
   "cell_type": "code",
   "execution_count": 3,
   "metadata": {},
   "outputs": [
    {
     "data": {
      "text/plain": [
       "list"
      ]
     },
     "execution_count": 3,
     "metadata": {},
     "output_type": "execute_result"
    }
   ],
   "source": [
    "type(ls)"
   ]
  },
  {
   "cell_type": "code",
   "execution_count": 4,
   "metadata": {},
   "outputs": [],
   "source": [
    "tu = (1,13,33)"
   ]
  },
  {
   "cell_type": "code",
   "execution_count": 5,
   "metadata": {},
   "outputs": [
    {
     "data": {
      "text/plain": [
       "tuple"
      ]
     },
     "execution_count": 5,
     "metadata": {},
     "output_type": "execute_result"
    }
   ],
   "source": [
    "type(tu)"
   ]
  },
  {
   "cell_type": "code",
   "execution_count": 6,
   "metadata": {},
   "outputs": [],
   "source": [
    "se = {938,294,29}"
   ]
  },
  {
   "cell_type": "code",
   "execution_count": 7,
   "metadata": {},
   "outputs": [
    {
     "data": {
      "text/plain": [
       "set"
      ]
     },
     "execution_count": 7,
     "metadata": {},
     "output_type": "execute_result"
    }
   ],
   "source": [
    "type(se)"
   ]
  },
  {
   "cell_type": "code",
   "execution_count": 8,
   "metadata": {},
   "outputs": [],
   "source": [
    "dic = {2: 93, 3: 27}"
   ]
  },
  {
   "cell_type": "code",
   "execution_count": 9,
   "metadata": {},
   "outputs": [
    {
     "data": {
      "text/plain": [
       "dict"
      ]
     },
     "execution_count": 9,
     "metadata": {},
     "output_type": "execute_result"
    }
   ],
   "source": [
    "type(dic)"
   ]
  },
  {
   "cell_type": "code",
   "execution_count": null,
   "metadata": {},
   "outputs": [],
   "source": []
  }
 ],
 "metadata": {
  "interpreter": {
   "hash": "63fd5069d213b44bf678585dea6b12cceca9941eaf7f819626cde1f2670de90d"
  },
  "kernelspec": {
   "display_name": "Python 3.9.7 64-bit",
   "language": "python",
   "name": "python3"
  },
  "language_info": {
   "codemirror_mode": {
    "name": "ipython",
    "version": 3
   },
   "file_extension": ".py",
   "mimetype": "text/x-python",
   "name": "python",
   "nbconvert_exporter": "python",
   "pygments_lexer": "ipython3",
   "version": "3.9.7"
  },
  "orig_nbformat": 4
 },
 "nbformat": 4,
 "nbformat_minor": 2
}
