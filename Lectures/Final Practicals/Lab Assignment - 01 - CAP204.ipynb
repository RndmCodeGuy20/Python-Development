{
 "cells": [
  {
   "cell_type": "markdown",
   "metadata": {},
   "source": [
    "# <center> Shri Ramdeobaba College of Engineering and Management, Nagpur</center>\n",
    "## <center>Department of Computer Science Engineering</center>\n",
    "## <center>Python Programming LAB (CAP 201) (2021-2022)</center>\n",
    "## <center>Lab Assignment 1</center>\n",
    "\n",
    "---"
   ]
  },
  {
   "cell_type": "markdown",
   "metadata": {},
   "source": [
    "#### <strong>Name : </strong> <em>Shantanu Mane</em>\n",
    "#### <strong>Roll Number : </strong> <em>63 (E-4)</em>\n",
    "#### <strong>Section : </strong> <em>E (AIML)</em>\n",
    "#### <strong>Date : </strong> <em>12<sup>th</sup> December 2021</em>"
   ]
  },
  {
   "cell_type": "markdown",
   "metadata": {},
   "source": [
    "## Problem Statements : \n",
    "\n",
    "1. Write a program to print the following using for loop \n",
    "    1. First 10 Even numbers \n",
    "    2. First 10 Odd numbers \n",
    "    3. First 10 Natural numbers \n",
    "    4. First 10 Whole numbers\n",
    "\n",
    "2. Write a program to display the number names of the digits of a number entered by user, for example if the number is 541 then output should be Five Four One\n",
    "3. Write a program to add first n terms of the following series using a for loop : 1/1! + 1/2! + 1/3! + ........ + 1/n!\n",
    "4. Write a program to display sum of odd numbers and even numbers separately that fall between two numbers accepted from the user.(including both numbers).\n",
    "5. Write a program to display all the numbers which are divisible by 13 but not by 3 between 100 and 500.\n",
    "6. Write a Program to print all the characters in the string ‘PYTHON PROGRAMMING’ using a for loop.\n",
    "7. Write a program to print all the factors of a number using a for loop.\n",
    "8. Write a program to print the following series till n terms.  1 4 9 16 25 ...... n terms\n",
    "9. Write a program to display all the numbers which are divisible by 13 but not by 3 between 100 and 500.\n",
    "10. Write a program to print all prime numbers between the given interval.\n",
    "11. Write a Python program to construct the following pattern, using a nested for loop.\n",
    "\n",
    "        *\n",
    "        * *\n",
    "        * * *\n",
    "        * * * *\n",
    "        * * * * *\n",
    "        * * * *\n",
    "        * * *\n",
    "        * *\n",
    "        *\n",
    "\n",
    "12. Write a program to print the grade card of a student. Accept marks of 5 subjects for a student, compute the % of marks and print the grade. If the percentage is greater than 80 then grade A, if between 60-79 then B, if between 40-50 then C, otherwise F.\n",
    "13. Write a program to perform the following task:\n",
    "    1. Accept the name of subject and marks information for two subjects\n",
    "    2. if subject is maths or science then add the marks and print\n",
    "    3. If the subject is English or social then find the percentage of marks.\n",
    "\n",
    "14. Write a program to accept 10 numbers and find the largest element. Use the appropriate data type."
   ]
  },
  {
   "cell_type": "code",
   "execution_count": 1,
   "metadata": {},
   "outputs": [
    {
     "name": "stdout",
     "output_type": "stream",
     "text": [
      "2\n",
      "4\n",
      "6\n",
      "8\n",
      "10\n",
      "12\n",
      "14\n",
      "16\n",
      "18\n",
      "20\n"
     ]
    }
   ],
   "source": [
    "# Solution 1.1\n",
    "\n",
    "for i in range(1,21):\n",
    "    if i % 2 == 0:\n",
    "        print(i)"
   ]
  },
  {
   "cell_type": "code",
   "execution_count": 2,
   "metadata": {},
   "outputs": [
    {
     "name": "stdout",
     "output_type": "stream",
     "text": [
      "1\n",
      "3\n",
      "5\n",
      "7\n",
      "9\n",
      "11\n",
      "13\n",
      "15\n",
      "17\n",
      "19\n"
     ]
    }
   ],
   "source": [
    "# Solution 1.2\n",
    "\n",
    "for i in range(1, 20):\n",
    "    if i % 2 != 0:\n",
    "        print(i)"
   ]
  },
  {
   "cell_type": "code",
   "execution_count": 3,
   "metadata": {},
   "outputs": [
    {
     "name": "stdout",
     "output_type": "stream",
     "text": [
      "1\n",
      "2\n",
      "3\n",
      "4\n",
      "5\n",
      "6\n",
      "7\n",
      "8\n",
      "9\n",
      "10\n"
     ]
    }
   ],
   "source": [
    "# Solution 1.3\n",
    "\n",
    "for i in range(1,11):\n",
    "    print(i)"
   ]
  },
  {
   "cell_type": "code",
   "execution_count": 8,
   "metadata": {},
   "outputs": [
    {
     "name": "stdout",
     "output_type": "stream",
     "text": [
      "0\n",
      "1\n",
      "2\n",
      "3\n",
      "4\n",
      "5\n",
      "6\n",
      "7\n",
      "8\n",
      "9\n"
     ]
    }
   ],
   "source": [
    "# Solution 1.4\n",
    "\n",
    "for i in range(0,10):\n",
    "    print(i)"
   ]
  },
  {
   "cell_type": "code",
   "execution_count": 5,
   "metadata": {},
   "outputs": [
    {
     "name": "stdout",
     "output_type": "stream",
     "text": [
      "['One', 'Zero', 'One', 'Nine', 'Two', 'Seven']\n"
     ]
    }
   ],
   "source": [
    "# Solution 2.\n",
    "\n",
    "inpNum = int(input(\"Enter the number : \"))\n",
    "numList = []\n",
    "numWordList = []\n",
    "\n",
    "while(inpNum > 0):\n",
    "    rem = inpNum % 10\n",
    "    numList.append(rem)\n",
    "    inpNum = inpNum // 10\n",
    "\n",
    "numList.reverse()\n",
    "\n",
    "for i in numList:\n",
    "    if i == 1:\n",
    "        numWordList.append(\"One\")\n",
    "    elif i == 2:\n",
    "        numWordList.append(\"Two\")\n",
    "    elif i == 3:\n",
    "        numWordList.append(\"Three\")\n",
    "    elif i == 4:\n",
    "        numWordList.append(\"Four\")\n",
    "    elif i == 5:\n",
    "        numWordList.append(\"Five\")\n",
    "    elif i == 6:\n",
    "        numWordList.append(\"Six\")\n",
    "    elif i == 7:\n",
    "        numWordList.append(\"Seven\")\n",
    "    elif i == 8:\n",
    "        numWordList.append(\"Eight\")\n",
    "    elif i == 9:\n",
    "        numWordList.append(\"Nine\")\n",
    "    elif i == 0:\n",
    "        numWordList.append(\"Zero\")\n",
    "\n",
    "print(numWordList)"
   ]
  },
  {
   "cell_type": "code",
   "execution_count": 8,
   "metadata": {},
   "outputs": [
    {
     "name": "stdout",
     "output_type": "stream",
     "text": [
      "1.7182818284590455\n"
     ]
    }
   ],
   "source": [
    "# Solution 3.\n",
    "\n",
    "def factorial(num):\n",
    "    if num == 1:\n",
    "        return 1\n",
    "    else:\n",
    "        return num * factorial(num-1)\n",
    "\n",
    "inpNum = int(input(\"Enter the number : \"))\n",
    "\n",
    "sum = 0\n",
    "\n",
    "for i in range(1,inpNum+1):\n",
    "    sum = sum + 1/factorial(i)\n",
    "\n",
    "print(sum)"
   ]
  },
  {
   "cell_type": "code",
   "execution_count": 10,
   "metadata": {},
   "outputs": [
    {
     "name": "stdout",
     "output_type": "stream",
     "text": [
      "Even numbers between 7 and 97 are : [8, 10, 12, 14, 16, 18, 20, 22, 24, 26, 28, 30, 32, 34, 36, 38, 40, 42, 44, 46, 48, 50, 52, 54, 56, 58, 60, 62, 64, 66, 68, 70, 72, 74, 76, 78, 80, 82, 84, 86, 88, 90, 92, 94, 96]\n",
      "Odd numbers between 7 and 97 are : [7, 9, 11, 13, 15, 17, 19, 21, 23, 25, 27, 29, 31, 33, 35, 37, 39, 41, 43, 45, 47, 49, 51, 53, 55, 57, 59, 61, 63, 65, 67, 69, 71, 73, 75, 77, 79, 81, 83, 85, 87, 89, 91, 93, 95, 97]\n"
     ]
    }
   ],
   "source": [
    "# Solution 4.\n",
    "\n",
    "inpNum = int(input(\"Enter the number : \"))\n",
    "inpNum2 = int(input(\"Enter the number : \"))\n",
    "\n",
    "evenList = []\n",
    "oddList = []\n",
    "\n",
    "for i in range(inpNum, inpNum2 + 1):\n",
    "    if i % 2 == 0:\n",
    "        evenList.append(i)\n",
    "    else:\n",
    "        oddList.append(i)\n",
    "\n",
    "print(\"Even numbers between {} and {} are : {}\".format(inpNum, inpNum2, evenList))\n",
    "print(\"Odd numbers between {} and {} are : {}\".format(inpNum, inpNum2, oddList))"
   ]
  },
  {
   "cell_type": "code",
   "execution_count": 11,
   "metadata": {},
   "outputs": [
    {
     "name": "stdout",
     "output_type": "stream",
     "text": [
      "104\n",
      "130\n",
      "143\n",
      "169\n",
      "182\n",
      "208\n",
      "221\n",
      "247\n",
      "260\n",
      "286\n",
      "299\n",
      "325\n",
      "338\n",
      "364\n",
      "377\n",
      "403\n",
      "416\n",
      "442\n",
      "455\n",
      "481\n",
      "494\n"
     ]
    }
   ],
   "source": [
    "# Solution 5.\n",
    "\n",
    "for i in range(100, 501):\n",
    "    if i % 13 == 0 and not i % 3 == 0:\n",
    "        print(i)"
   ]
  },
  {
   "cell_type": "code",
   "execution_count": 10,
   "metadata": {},
   "outputs": [
    {
     "name": "stdout",
     "output_type": "stream",
     "text": [
      "P\n",
      "Y\n",
      "T\n",
      "H\n",
      "O\n",
      "N\n",
      " \n",
      "P\n",
      "R\n",
      "O\n",
      "G\n",
      "R\n",
      "A\n",
      "M\n",
      "M\n",
      "I\n",
      "N\n",
      "G\n"
     ]
    }
   ],
   "source": [
    "# Solution 6.\n",
    "\n",
    "inpStr = 'PYTHON PROGRAMMING'\n",
    "\n",
    "for i in inpStr:\n",
    "    print(i)"
   ]
  },
  {
   "cell_type": "code",
   "execution_count": 13,
   "metadata": {},
   "outputs": [
    {
     "name": "stdout",
     "output_type": "stream",
     "text": [
      "1\n",
      "3\n",
      "5\n",
      "9\n",
      "15\n",
      "17\n",
      "45\n",
      "51\n",
      "85\n",
      "153\n",
      "255\n",
      "765\n"
     ]
    }
   ],
   "source": [
    "# Solution 7.\n",
    "\n",
    "inpNum = int(input(\"Enter the number : \"))\n",
    "\n",
    "for i in range(1,inpNum+1):\n",
    "    if inpNum % i == 0:\n",
    "        print(i)"
   ]
  },
  {
   "cell_type": "code",
   "execution_count": 1,
   "metadata": {},
   "outputs": [
    {
     "name": "stdout",
     "output_type": "stream",
     "text": [
      "1\n",
      "4\n",
      "9\n",
      "16\n",
      "25\n",
      "36\n",
      "49\n",
      "64\n",
      "81\n",
      "100\n",
      "121\n",
      "144\n",
      "169\n",
      "196\n",
      "225\n",
      "256\n",
      "289\n",
      "324\n",
      "361\n",
      "400\n"
     ]
    }
   ],
   "source": [
    "# Solution 8.\n",
    "\n",
    "inpNum = int(input(\"Enter the number : \"))\n",
    "\n",
    "for i in range(1,inpNum+1):\n",
    "    print(i**2)"
   ]
  },
  {
   "cell_type": "code",
   "execution_count": 3,
   "metadata": {},
   "outputs": [
    {
     "name": "stdout",
     "output_type": "stream",
     "text": [
      "11\n",
      "13\n",
      "17\n",
      "19\n",
      "23\n",
      "29\n",
      "31\n",
      "37\n",
      "41\n",
      "43\n",
      "47\n",
      "53\n",
      "59\n",
      "61\n",
      "67\n",
      "71\n",
      "73\n",
      "79\n",
      "83\n",
      "89\n",
      "97\n"
     ]
    }
   ],
   "source": [
    "# Solution 9.\n",
    "\n",
    "def PrimeNum(num):\n",
    "    for i in range(2,num):\n",
    "        if num % i == 0:\n",
    "            return False\n",
    "    return True\n",
    "\n",
    "inpNum = int(input(\"Enter the number : \"))\n",
    "inpNum2 = int(input(\"Enter the number : \"))\n",
    "\n",
    "for i in range(inpNum,inpNum2+1):\n",
    "    if PrimeNum(i):\n",
    "        print(i)"
   ]
  },
  {
   "cell_type": "code",
   "execution_count": 1,
   "metadata": {},
   "outputs": [
    {
     "name": "stdout",
     "output_type": "stream",
     "text": [
      "* \n",
      "* * \n",
      "* * * \n",
      "* * * * \n",
      "* * * * * \n",
      "* * * * \n",
      "* * * \n",
      "* * \n",
      "* \n"
     ]
    }
   ],
   "source": [
    "# Solution 10.\n",
    "\n",
    "for i in range(1,6):\n",
    "    for j in range(1,i+1):\n",
    "        print(\"*\",end=\" \")\n",
    "    print()\n",
    "for i in range(1,5):\n",
    "    for j in range(5,i,-1):\n",
    "        print(\"*\",end=\" \")\n",
    "    print()"
   ]
  },
  {
   "cell_type": "code",
   "execution_count": 3,
   "metadata": {},
   "outputs": [
    {
     "name": "stdout",
     "output_type": "stream",
     "text": [
      "Grade B 73.0\n"
     ]
    }
   ],
   "source": [
    "# Solution 11.\n",
    "\n",
    "subMarks1 = int(input(\"Enter the marks of subject 1 : \"))\n",
    "subMarks2 = int(input(\"Enter the marks of subject 2 : \"))\n",
    "subMarks3 = int(input(\"Enter the marks of subject 3 : \"))\n",
    "subMarks4 = int(input(\"Enter the marks of subject 4 : \"))\n",
    "subMarks5 = int(input(\"Enter the marks of subject 5 : \"))\n",
    "\n",
    "marksList = [subMarks1, subMarks2, subMarks3, subMarks4, subMarks5]\n",
    "\n",
    "sum = 0\n",
    "\n",
    "for i in marksList:\n",
    "    sum = sum + i\n",
    "\n",
    "percentageMarks = (sum / 100) * 100\n",
    "\n",
    "if percentageMarks >= 80:\n",
    "    print(\"Grade A\", percentageMarks)\n",
    "elif percentageMarks >= 60 and percentageMarks < 79:\n",
    "    print(\"Grade B\", percentageMarks)\n",
    "elif percentageMarks >= 40 and percentageMarks < 59:\n",
    "    print(\"Grade C\", percentageMarks)\n",
    "else:\n",
    "    print(\"Grade F\", percentageMarks)"
   ]
  },
  {
   "cell_type": "code",
   "execution_count": 14,
   "metadata": {},
   "outputs": [
    {
     "name": "stdout",
     "output_type": "stream",
     "text": [
      "The percentage of marks of both subjects is 97.0\n"
     ]
    }
   ],
   "source": [
    "# Solution 12.\n",
    "\n",
    "inpNameSub1 = input(str(\"Enter the name of subject : \"))\n",
    "inpMarksSub1 = int(input(\"Enter the marks of subject : \"))\n",
    "\n",
    "inpNameSub2 = input(str(\"Enter the name of subject : \"))\n",
    "inpMarksSub2 = int(input(\"Enter the marks of subject : \"))\n",
    "\n",
    "if (inpNameSub1 == 'Maths' and inpNameSub2 == 'Science') or (inpNameSub1 == 'Science' and inpNameSub2 == 'Maths'):\n",
    "    print(f\"The total marks of subject is {inpMarksSub1 + inpMarksSub2}\")\n",
    "elif (inpNameSub1 == \"English\" and inpNameSub2 == \"Social\")or (inpNameSub1 == \"Social\" and inpNameSub2 == \"English\"):\n",
    "    print(f\"The percentage of marks of both subjects is {(((inpMarksSub1 + inpMarksSub2)/100)*100)}\")"
   ]
  },
  {
   "cell_type": "code",
   "execution_count": 5,
   "metadata": {},
   "outputs": [
    {
     "name": "stdout",
     "output_type": "stream",
     "text": [
      "[1, 3, 29, 39, 120, 129, 239, 317, 1398, 1927]\n",
      "Large number is 1927\n"
     ]
    }
   ],
   "source": [
    "# Solution 13.\n",
    "\n",
    "inpListEl = 0\n",
    "inpList = []\n",
    "\n",
    "for i in range(0,10):\n",
    "    inpListEl = int(input(\"Enter the number : \"))\n",
    "    inpList.append(inpListEl)\n",
    "\n",
    "inpList.sort()\n",
    "\n",
    "print(inpList)\n",
    "print(f\"Large number is {inpList[-1]}\")"
   ]
  },
  {
   "cell_type": "code",
   "execution_count": null,
   "metadata": {},
   "outputs": [],
   "source": []
  }
 ],
 "metadata": {
  "interpreter": {
   "hash": "63fd5069d213b44bf678585dea6b12cceca9941eaf7f819626cde1f2670de90d"
  },
  "kernelspec": {
   "display_name": "Python 3.9.7 64-bit",
   "language": "python",
   "name": "python3"
  },
  "language_info": {
   "codemirror_mode": {
    "name": "ipython",
    "version": 3
   },
   "file_extension": ".py",
   "mimetype": "text/x-python",
   "name": "python",
   "nbconvert_exporter": "python",
   "pygments_lexer": "ipython3",
   "version": "3.9.7"
  },
  "orig_nbformat": 4
 },
 "nbformat": 4,
 "nbformat_minor": 2
}
