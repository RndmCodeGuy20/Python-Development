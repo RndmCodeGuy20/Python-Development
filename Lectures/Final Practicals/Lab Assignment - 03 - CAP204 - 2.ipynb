{
 "cells": [
  {
   "cell_type": "markdown",
   "metadata": {},
   "source": [
    "# <center> Shri Ramdeobaba College of Engineering and Management, Nagpur</center>\n",
    "## <center>Department of Computer Science Engineering</center>\n",
    "## <center>Python Programming LAB (CAP 201) (2021-2022)</center>\n",
    "## <center>Lab Assignment 3 (II)</center>\n",
    "\n",
    "---"
   ]
  },
  {
   "cell_type": "markdown",
   "metadata": {},
   "source": [
    "#### <strong>Name : </strong> <em>Shantanu Mane</em>\n",
    "#### <strong>Roll Number : </strong> <em>63 (E-4)</em>\n",
    "#### <strong>Section : </strong> <em>E (AIML)</em>\n",
    "#### <strong>Date : </strong> <em>12<sup>th</sup> December 2021</em>"
   ]
  },
  {
   "cell_type": "code",
   "execution_count": 1,
   "metadata": {},
   "outputs": [],
   "source": [
    "Employee_data = { 101:['Shiva', 24, 'Content Strategist'] ,102:['Udit',25,'Content Strategist'], 103:['Sonam', 28,'Sr Manager'], 104:['Ansari',29,'Product Lead' ],105:['Huzefa',32,'Project Manager' ]}"
   ]
  },
  {
   "cell_type": "markdown",
   "metadata": {},
   "source": [
    "## Get details of the oldest Employee "
   ]
  },
  {
   "cell_type": "code",
   "execution_count": 2,
   "metadata": {},
   "outputs": [
    {
     "name": "stdout",
     "output_type": "stream",
     "text": [
      "105 ['Huzefa', 32, 'Project Manager']\n"
     ]
    }
   ],
   "source": [
    "# Type your code here\n",
    "maxAge = 0\n",
    "\n",
    "for EmpKey, EmpVal in Employee_data.items():\n",
    "    if EmpVal[1] > maxAge:\n",
    "        maxAge = EmpVal[1]\n",
    "\n",
    "for EmpKey, EmpVal in Employee_data.items():\n",
    "    if EmpVal[1] == maxAge:\n",
    "        print(EmpKey,EmpVal)"
   ]
  },
  {
   "cell_type": "markdown",
   "metadata": {},
   "source": [
    "#### Identify the age of the employee with employee id 159 [ If the employee isn't present return NA]\n",
    "\n",
    "- 25\n",
    "- 32\n",
    "- NA\n",
    "- 42"
   ]
  },
  {
   "cell_type": "code",
   "execution_count": 3,
   "metadata": {},
   "outputs": [
    {
     "name": "stdout",
     "output_type": "stream",
     "text": [
      "NA\n"
     ]
    }
   ],
   "source": [
    "# Type your code here\n",
    "try:\n",
    "    print(Employee_data[159])\n",
    "except KeyError:\n",
    "    print(\"NA\")\n",
    "\n",
    "#* Option C is correct"
   ]
  },
  {
   "cell_type": "markdown",
   "metadata": {},
   "source": [
    "#### Count the total number of employee in the organization\n",
    "\n"
   ]
  },
  {
   "cell_type": "code",
   "execution_count": 4,
   "metadata": {},
   "outputs": [
    {
     "name": "stdout",
     "output_type": "stream",
     "text": [
      "5\n"
     ]
    }
   ],
   "source": [
    "# Type your code here\n",
    "\n",
    "totEmp = len(Employee_data)\n",
    "print(totEmp)"
   ]
  },
  {
   "cell_type": "markdown",
   "metadata": {},
   "source": [
    "#### Calculate the mean age of the employees\n",
    "\n",
    "- 31.36\n",
    "- 36.48\n",
    "- 27.66\n",
    "- 32.47"
   ]
  },
  {
   "cell_type": "code",
   "execution_count": 13,
   "metadata": {},
   "outputs": [
    {
     "name": "stdout",
     "output_type": "stream",
     "text": [
      "ID : 101, Name : Shiva, Age : 24, Designation : Content Strategist\n",
      "\n",
      "ID : 102, Name : Udit, Age : 25, Designation : Content Strategist\n",
      "\n",
      "ID : 103, Name : Sonam, Age : 28, Designation : Sr Manager\n",
      "\n",
      "ID : 104, Name : Ansari, Age : 29, Designation : Product Lead\n",
      "\n",
      "ID : 105, Name : Huzefa, Age : 32, Designation : Project Manager\n",
      "\n"
     ]
    }
   ],
   "source": [
    "for empKeys, empVals in Employee_data.items():\n",
    "    print(f\"ID : {empKeys}, Name : {empVals[0]}, Age : {empVals[1]}, Designation : {empVals[2]}\\n\")"
   ]
  },
  {
   "cell_type": "code",
   "execution_count": 14,
   "metadata": {},
   "outputs": [
    {
     "name": "stdout",
     "output_type": "stream",
     "text": [
      "Mean Age : 27.6\n"
     ]
    }
   ],
   "source": [
    "dictLen = len(Employee_data)\n",
    "empList = Employee_data.values()\n",
    "\n",
    "sumAge = 0\n",
    "\n",
    "for i in empList:\n",
    "    sumAge += i[1]\n",
    "\n",
    "print(f\"Mean Age : {sumAge/len(Employee_data)}\")\n",
    "\n",
    "#* Option C is correct"
   ]
  },
  {
   "cell_type": "markdown",
   "metadata": {},
   "source": [
    "#### Perform the following two tasks and then calculate the updated mean age of the employees\n",
    "Task1 Update the ages of employee id - 104,140, and 164 as 27 <br>\n",
    "\n"
   ]
  },
  {
   "cell_type": "code",
   "execution_count": null,
   "metadata": {},
   "outputs": [],
   "source": [
    "# Type your code here\n",
    "Employee_data[104][1] = 27\n",
    "Employee_data[140] = ['', 27, '']\n",
    "Employee_data[164] = ['', 27, '']"
   ]
  },
  {
   "cell_type": "code",
   "execution_count": null,
   "metadata": {},
   "outputs": [],
   "source": [
    "print(Employee_data)"
   ]
  },
  {
   "cell_type": "code",
   "execution_count": null,
   "metadata": {},
   "outputs": [],
   "source": []
  }
 ],
 "metadata": {
  "kernelspec": {
   "display_name": "Python 3",
   "language": "python",
   "name": "python3"
  },
  "language_info": {
   "codemirror_mode": {
    "name": "ipython",
    "version": 3
   },
   "file_extension": ".py",
   "mimetype": "text/x-python",
   "name": "python",
   "nbconvert_exporter": "python",
   "pygments_lexer": "ipython3",
   "version": "3.9.7"
  }
 },
 "nbformat": 4,
 "nbformat_minor": 2
}
