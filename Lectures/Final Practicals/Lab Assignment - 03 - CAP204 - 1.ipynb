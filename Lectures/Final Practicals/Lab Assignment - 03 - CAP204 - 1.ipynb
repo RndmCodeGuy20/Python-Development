{
 "cells": [
  {
   "cell_type": "markdown",
   "metadata": {},
   "source": [
    "# <center> Shri Ramdeobaba College of Engineering and Management, Nagpur</center>\n",
    "## <center>Department of Computer Science Engineering</center>\n",
    "## <center>Python Programming LAB (CAP 201) (2021-2022)</center>\n",
    "## <center>Lab Assignment 3 (I)</center>\n",
    "\n",
    "---"
   ]
  },
  {
   "cell_type": "markdown",
   "metadata": {},
   "source": [
    "#### <strong>Name : </strong> <em>Shantanu Mane</em>\n",
    "#### <strong>Roll Number : </strong> <em>63 (E-4)</em>\n",
    "#### <strong>Section : </strong> <em>E (AIML)</em>\n",
    "#### <strong>Date : </strong> <em>12<sup>th</sup> December 2021</em>"
   ]
  },
  {
   "cell_type": "code",
   "execution_count": 10,
   "metadata": {},
   "outputs": [],
   "source": [
    "#Consider the string given below and answer the following questions \n",
    "string = \"OQYWFClFhFGAvIWYwGKpmZhnJiyzTslSIhSwvOsqJMEphzmifTkyqOMNpnOtXZxmCfgDYqbaBHAUvIWhMnvwZnEMVDvmEfLrDoQnAZgQEgXQVnmSYkfedpAdhrtpOgORpYLRZYGWdhWYuqQssCUXtTzKRDAhpjUheOzUroZNzWFtZOVwIapzUYtbSbjYNErzQ\"\n"
   ]
  },
  {
   "cell_type": "markdown",
   "metadata": {},
   "source": [
    "####  Calculate the number of characters in the string\n",
    "\n",
    "-  193\n",
    "-  200\n",
    "-  300\n",
    "-  500\n"
   ]
  },
  {
   "cell_type": "code",
   "execution_count": 2,
   "metadata": {},
   "outputs": [
    {
     "name": "stdout",
     "output_type": "stream",
     "text": [
      "193\n"
     ]
    }
   ],
   "source": [
    "print(len(string))\n",
    "\n",
    "#* Option A is Correct"
   ]
  },
  {
   "cell_type": "markdown",
   "metadata": {},
   "source": [
    "#### Count the number of occurences of 'a' in the string\n",
    "\n",
    "-  1\n",
    "-  2\n",
    "-  10\n",
    "-  5"
   ]
  },
  {
   "cell_type": "code",
   "execution_count": 3,
   "metadata": {},
   "outputs": [
    {
     "name": "stdout",
     "output_type": "stream",
     "text": [
      "Occurrences of 'a' in string are : 2\n"
     ]
    }
   ],
   "source": [
    "sum = 0\n",
    "\n",
    "for i in string:\n",
    "    if i == 'a':\n",
    "        sum = sum + 1\n",
    "\n",
    "print(f\"Occurrences of 'a' in string are : {sum}\")\n",
    "\n",
    "#* Option B is correct"
   ]
  },
  {
   "cell_type": "markdown",
   "metadata": {},
   "source": [
    "#### Identify whether the string starts with 'if'.\n",
    "\n",
    "-  True\n",
    "-  False"
   ]
  },
  {
   "cell_type": "code",
   "execution_count": 12,
   "metadata": {},
   "outputs": [
    {
     "name": "stdout",
     "output_type": "stream",
     "text": [
      "False\n"
     ]
    }
   ],
   "source": [
    "if string[0:2] == 'if':\n",
    "    print(True)\n",
    "else:\n",
    "    print(False)"
   ]
  },
  {
   "cell_type": "markdown",
   "metadata": {},
   "source": [
    "#### Return the substring starting at index 63 and ending at index 88  [Both the indexes are inclusive]\n",
    "\n",
    "-  'OQYWFClFhFGA'\n",
    "-  'mCfgDYqbaBHAUvIWhMnvwZnEMV'\n",
    "-  'IWYwGKpmZhnJiyzTslSIhSwv'\n",
    "-  'JMEphzmifTkyqOMNpnOtXZ'"
   ]
  },
  {
   "cell_type": "code",
   "execution_count": 14,
   "metadata": {},
   "outputs": [
    {
     "name": "stdout",
     "output_type": "stream",
     "text": [
      "mCfgDYqbaBHAUvIWhMnvwZnEMV\n"
     ]
    }
   ],
   "source": [
    "print(string[63:89])\n",
    "\n",
    "#* Option B is correct"
   ]
  },
  {
   "cell_type": "markdown",
   "metadata": {},
   "source": [
    "#### Identify the character at index 45\n",
    "\n",
    "-  a\n",
    "-  b\n",
    "-  z\n",
    "-  x"
   ]
  },
  {
   "cell_type": "code",
   "execution_count": 16,
   "metadata": {},
   "outputs": [
    {
     "name": "stdout",
     "output_type": "stream",
     "text": [
      "z\n"
     ]
    }
   ],
   "source": [
    "print(string[45])\n",
    "\n",
    "#* Option C is correct"
   ]
  },
  {
   "cell_type": "code",
   "execution_count": null,
   "metadata": {},
   "outputs": [],
   "source": []
  }
 ],
 "metadata": {
  "kernelspec": {
   "display_name": "Python 3",
   "language": "python",
   "name": "python3"
  },
  "language_info": {
   "codemirror_mode": {
    "name": "ipython",
    "version": 3
   },
   "file_extension": ".py",
   "mimetype": "text/x-python",
   "name": "python",
   "nbconvert_exporter": "python",
   "pygments_lexer": "ipython3",
   "version": "3.9.7"
  }
 },
 "nbformat": 4,
 "nbformat_minor": 2
}
