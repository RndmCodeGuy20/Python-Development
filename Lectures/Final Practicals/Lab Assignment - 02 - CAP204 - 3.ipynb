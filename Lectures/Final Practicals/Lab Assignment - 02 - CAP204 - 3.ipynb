{
 "cells": [
  {
   "cell_type": "markdown",
   "metadata": {},
   "source": [
    "## Practice Exercise 3 : List"
   ]
  },
  {
   "cell_type": "code",
   "execution_count": 2,
   "metadata": {},
   "outputs": [
    {
     "name": "stdout",
     "output_type": "stream",
     "text": [
      "5 found 4 time(s)\n",
      "4 found 1 time(s)\n",
      "3 found 1 time(s)\n",
      "2 found 1 time(s)\n",
      "1 found 1 time(s)\n",
      "99 found 1 time(s)\n",
      "88 found 1 time(s)\n",
      "5 found 4 time(s)\n",
      "77 found 1 time(s)\n",
      "66 found 1 time(s)\n",
      "55 found 1 time(s)\n",
      "5 found 4 time(s)\n",
      "44 found 1 time(s)\n",
      "33 found 1 time(s)\n",
      "5 found 4 time(s)\n",
      "22 found 1 time(s)\n",
      "11 found 1 time(s)\n",
      "5 found 1 time(s)\n"
     ]
    }
   ],
   "source": [
    "# Q.1. Count occurrences of an element in a list\n",
    "list1= [5, 4, 3, 2, 1, 99, 88, 5,77, 66, 55,5, 44, 33,5, 22, 11,'5']\n",
    "\n",
    "# Python code to count the number of occurrences\n",
    "def countX(lst, x):\n",
    "\tcount = 0\n",
    "\tfor ele in lst:\n",
    "\t\tif (ele == x):\n",
    "\t\t\tcount = count + 1\n",
    "\treturn count\n",
    "\n",
    "# Driver Code\n",
    "list1= [5, 4, 3, 2, 1, 99, 88, 5,77, 66, 55,5, 44, 33,5, 22, 11,'5']\n",
    "\n",
    "for i in range(0, len(list1)):\n",
    "    count = countX(list1, list1[i])\n",
    "    print(f\"{list1[i]} found {count} time(s)\")"
   ]
  },
  {
   "cell_type": "code",
   "execution_count": 9,
   "metadata": {},
   "outputs": [
    {
     "name": "stdout",
     "output_type": "stream",
     "text": [
      "400 is present in the list at the position 20\n"
     ]
    }
   ],
   "source": [
    "# Q.2.\n",
    "# Create the list of squares from 1 to 20. \n",
    "# check the entered no. is perfect square or not by checking its availability in the list.\n",
    "\n",
    "listOfSquares = []\n",
    "\n",
    "for i in range(1,21):\n",
    "    listOfSquares.append(i**2)\n",
    "\n",
    "# print(listOfSquares) | [1, 4, 9, 16, 25, 36, 49, 64, 81, 100, 121, 144, 169, 196, 225, 256, 289, 324, 361, 400]\n",
    "\n",
    "enteredNum = int(input(\"Enter the number : \"))\n",
    "\n",
    "for i in range(0, len(listOfSquares)):\n",
    "    if (enteredNum == listOfSquares[i]):\n",
    "        print(f\"{enteredNum} is present in the list at the position {i+1}\")"
   ]
  },
  {
   "cell_type": "code",
   "execution_count": 20,
   "metadata": {},
   "outputs": [],
   "source": [
    "# Q.3 Count occurrences of vowels in a list\n",
    "listOf = ['s','h','r','i','r','a','m','d','e','o','b','a','b','a','c','o','l','l','e','g','e'] \n",
    "\n"
   ]
  },
  {
   "cell_type": "code",
   "execution_count": 19,
   "metadata": {},
   "outputs": [
    {
     "name": "stdout",
     "output_type": "stream",
     "text": [
      "[-199, -5, 1, 2, 3, 4, 6, 7, 11, 22, 24, 33, 43, 60, 89, 95]\n",
      "1 Largest number : 95 \n",
      "1 Smallest number : -199\n"
     ]
    }
   ],
   "source": [
    "# Q.4 Python program to find N largest and smallest element from given list of integers \n",
    "lst=[11,22,33,1,2,3,4,6,7,89,43,24,95,60,-5,-199]\n",
    "\n",
    "Nlargest = int(input(\"Enter number : \"))\n",
    "\n",
    "sortedList = sorted(lst)\n",
    "print(sortedList)\n",
    "\n",
    "print(f\"{Nlargest} Largest number : {sortedList[-Nlargest]} \\n{Nlargest} Smallest number : {sortedList[Nlargest-1]}\")"
   ]
  },
  {
   "cell_type": "code",
   "execution_count": null,
   "metadata": {},
   "outputs": [],
   "source": []
  }
 ],
 "metadata": {
  "kernelspec": {
   "display_name": "Python 3",
   "language": "python",
   "name": "python3"
  },
  "language_info": {
   "codemirror_mode": {
    "name": "ipython",
    "version": 3
   },
   "file_extension": ".py",
   "mimetype": "text/x-python",
   "name": "python",
   "nbconvert_exporter": "python",
   "pygments_lexer": "ipython3",
   "version": "3.9.7"
  }
 },
 "nbformat": 4,
 "nbformat_minor": 2
}
