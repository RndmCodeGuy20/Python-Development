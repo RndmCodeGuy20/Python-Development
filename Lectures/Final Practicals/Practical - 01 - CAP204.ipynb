{
 "cells": [
  {
   "cell_type": "markdown",
   "metadata": {},
   "source": [
    "# Practical No. 1 :\n",
    "\n",
    "1. Write a python program to Ask user to give two float input for length and breadth of a rectangle and print area type casted to int.\n",
    "2. Write a python program to calculate Manhattan distance between two points A(x1,y1) and B(x2,y2)\n",
    "3. Write a python program to generate report card of a student. Accept from user: name of student, marks in 3 subject. Generate percentage and add incentive of 0.5% on the percentage and compute final percentage. Print the score card in following format."
   ]
  },
  {
   "cell_type": "code",
   "execution_count": 2,
   "metadata": {
    "dotnet_interactive": {
     "language": "csharp"
    }
   },
   "outputs": [
    {
     "name": "stdout",
     "output_type": "stream",
     "text": [
      "Length entered : 20.78\n",
      "Breadth entered : 12.536\n",
      "Area of the rectangle : 260\n"
     ]
    }
   ],
   "source": [
    "# Solution 1.\n",
    "\n",
    "def calcArea(length, breadth):\n",
    "    return length*breadth\n",
    "\n",
    "length = float(input(\"Enter the length : \"))\n",
    "breadth = float(input(\"Enter the breadth : \"))\n",
    "\n",
    "Area = calcArea(length, breadth)\n",
    "\n",
    "print(f\"Length entered : {length}\\nBreadth entered : {breadth}\\nArea of the rectangle : {int(Area)}\")"
   ]
  },
  {
   "cell_type": "code",
   "execution_count": 4,
   "metadata": {
    "dotnet_interactive": {
     "language": "csharp"
    }
   },
   "outputs": [
    {
     "name": "stdout",
     "output_type": "stream",
     "text": [
      "The distance between the two points A(3,4) and B(4,5) using the Euclidian formula is : 2.00000\n"
     ]
    }
   ],
   "source": [
    "# Solution 2.\n",
    "\n",
    "import math\n",
    "\n",
    "def delCoord(z1,z2):\n",
    "    delC = abs(z1 - z2)\n",
    "    return delC\n",
    "\n",
    "# Points : A(3,4) , B(4,5)\n",
    "\n",
    "x1 = 3\n",
    "y1 = 4\n",
    "\n",
    "x2 = 4\n",
    "y2 = 5\n",
    "\n",
    "ManhattanDist = delCoord(x1, x2) + delCoord(y1, y2)\n",
    "\n",
    "accManhattanDist = \"{:.5f}\".format(ManhattanDist)\n",
    "\n",
    "print(f\"The distance between the two points A(3,4) and B(4,5) using the Euclidian formula is : {accManhattanDist}\")"
   ]
  },
  {
   "cell_type": "code",
   "execution_count": 6,
   "metadata": {},
   "outputs": [
    {
     "name": "stdout",
     "output_type": "stream",
     "text": [
      "\t\t\t\t\t****\tSCORE CARD\t****\n",
      "╒══════════╤═════════╤═══════════╤═══════════╤═══════════════╤══════════════╤══════════════╤════════════════════╕\n",
      "│ Name     │   Maths │   English │   Science │   Total Marks │   Percentage │ Incentives   │   Total Percentage │\n",
      "╞══════════╪═════════╪═══════════╪═══════════╪═══════════════╪══════════════╪══════════════╪════════════════════╡\n",
      "│ Shantanu │      94 │        90 │        93 │           277 │      92.3333 │ 0.5 %        │            92.8333 │\n",
      "╘══════════╧═════════╧═══════════╧═══════════╧═══════════════╧══════════════╧══════════════╧════════════════════╛\n",
      "\n"
     ]
    }
   ],
   "source": [
    "# Solution 3.\n",
    "from tabulate import tabulate\n",
    "\n",
    "class Marks:\n",
    "    def __init__(self, name: str, Maths: float, English: float, Science: float):\n",
    "        self.name = name\n",
    "        self.Math = Maths\n",
    "        self.Eng = English\n",
    "        self.Sci = Science\n",
    "\n",
    "    def calcTotMarks(self):\n",
    "        return self.Math + self.Eng + self.Sci\n",
    "\n",
    "    def calcPercentage(self):\n",
    "        return ((self.Math + self.Eng + self.Sci)/300)*100\n",
    "\n",
    "def dispInfo(table):\n",
    "    print(\n",
    "        \"\\t\\t\\t\\t\\t****\\tSCORE CARD\\t****\\n\" + tabulate(table, headers=\"firstrow\", tablefmt=\"fancy_grid\",colalign=(\"left\",))\n",
    "        + \"\\n\"\n",
    "    )\n",
    "\n",
    "\n",
    "Name = input(\"Enter your name : \")\n",
    "MathsM = int(input(\"Enter marks of Maths : \"))\n",
    "EngM = int(input(\"Enter marks of English : \"))\n",
    "SciM = int(input(\"Enter marks of Science : \"))\n",
    "\n",
    "student = Marks(\"Shantanu\", 94, 90, 93)\n",
    "\n",
    "table = [\n",
    "    [\n",
    "        \"Name\",\n",
    "        \"Maths\",\n",
    "        \"English\",\n",
    "        \"Science\",\n",
    "        \"Total Marks\",\n",
    "        \"Percentage\",\n",
    "        \"Incentives\",\n",
    "        \"Total Percentage\"\n",
    "    ],\n",
    "    [\n",
    "        student.name,\n",
    "        student.Math,\n",
    "        student.Eng,\n",
    "        student.Sci,\n",
    "        student.calcTotMarks(),\n",
    "        student.calcPercentage(),\n",
    "        \"0.5 %\",\n",
    "        student.calcPercentage() + 0.5\n",
    "    ]\n",
    "]\n",
    "\n",
    "dispInfo(table)\n"
   ]
  },
  {
   "cell_type": "code",
   "execution_count": null,
   "metadata": {},
   "outputs": [],
   "source": []
  }
 ],
 "metadata": {
  "interpreter": {
   "hash": "63fd5069d213b44bf678585dea6b12cceca9941eaf7f819626cde1f2670de90d"
  },
  "kernelspec": {
   "display_name": ".NET (C#)",
   "language": "python",
   "name": "python3"
  },
  "language_info": {
   "codemirror_mode": {
    "name": "ipython",
    "version": 3
   },
   "file_extension": ".py",
   "mimetype": "text/x-python",
   "name": "python",
   "nbconvert_exporter": "python",
   "pygments_lexer": "ipython3",
   "version": "3.9.7"
  },
  "orig_nbformat": 4
 },
 "nbformat": 4,
 "nbformat_minor": 2
}
