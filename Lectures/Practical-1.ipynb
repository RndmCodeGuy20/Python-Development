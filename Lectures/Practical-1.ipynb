{
 "cells": [
  {
   "cell_type": "markdown",
   "metadata": {},
   "source": [
    "## **Subject :** Python Programming Lab\n",
    "## **Practical Name :** Basic Python Programming\n",
    "\n",
    "### **Name :** Shantanu Mane\n",
    "### **Roll No. :** E-63\n",
    "### **Batch :** E4\n",
    "### **Section :** E"
   ]
  },
  {
   "cell_type": "code",
   "execution_count": 1,
   "metadata": {},
   "outputs": [
    {
     "name": "stdout",
     "output_type": "stream",
     "text": [
      "525\n"
     ]
    }
   ],
   "source": [
    "# Solution. 1\n",
    "\n",
    "def calcArea(length, breadth):\n",
    "    return length*breadth\n",
    "\n",
    "length = float(input(\"Enter the length : \"))\n",
    "breadth = float(input(\"Enter the breadth : \"))\n",
    "\n",
    "Area = calcArea(length, breadth)\n",
    "\n",
    "print(int(Area))"
   ]
  },
  {
   "cell_type": "code",
   "execution_count": 2,
   "metadata": {},
   "outputs": [
    {
     "name": "stdout",
     "output_type": "stream",
     "text": [
      "The distance between the two points A(3,4) and B(4,5) using the Euclidian formula is : 1.41421\n"
     ]
    }
   ],
   "source": [
    "# Solution. 2\n",
    "\n",
    "import math\n",
    "\n",
    "def delSq(x,y):\n",
    "    z = (x - y)**2\n",
    "    return z\n",
    "\n",
    "# Points : A(3,4) , B(4,5)\n",
    "\n",
    "x1 = 3\n",
    "y1 = 4\n",
    "\n",
    "x2 = 4\n",
    "y2 = 5\n",
    "\n",
    "zX = delSq(x2, x1)\n",
    "zY = delSq(y2, y1)\n",
    "\n",
    "Rez = math.sqrt(zX + zY)\n",
    "accRez = \"{:.5f}\".format(Rez)\n",
    "\n",
    "print(f\"The distance between the two points A(3,4) and B(4,5) using the Euclidian formula is : {accRez}\")"
   ]
  },
  {
   "cell_type": "code",
   "execution_count": 3,
   "metadata": {},
   "outputs": [],
   "source": [
    "from tabulate import tabulate"
   ]
  },
  {
   "cell_type": "code",
   "execution_count": 4,
   "metadata": {},
   "outputs": [
    {
     "name": "stdout",
     "output_type": "stream",
     "text": [
      "\t\t\t\t\t****\tSCORE CARD\t****\n",
      "╒═══════════════╤═════════╤═══════════╤═══════════╤═══════════════╤══════════════╤══════════════╤════════════════════╕\n",
      "│ Name          │   Maths │   English │   Science │   Total Marks │   Percentage │ Incentives   │   Total Percentage │\n",
      "╞═══════════════╪═════════╪═══════════╪═══════════╪═══════════════╪══════════════╪══════════════╪════════════════════╡\n",
      "│ Shantanu Mane │      93 │        86 │        94 │           273 │           91 │ 0.5 %        │               91.5 │\n",
      "╘═══════════════╧═════════╧═══════════╧═══════════╧═══════════════╧══════════════╧══════════════╧════════════════════╛\n",
      "\n"
     ]
    }
   ],
   "source": [
    "# Solution. 3\n",
    "\n",
    "class Marks:\n",
    "    def __init__(self, name: str, Maths: float, English: float, Science: float):\n",
    "        self.name = name\n",
    "        self.Math = Maths\n",
    "        self.Eng = English\n",
    "        self.Sci = Science\n",
    "\n",
    "    def calcTotMarks(self):\n",
    "        return self.Math + self.Eng + self.Sci\n",
    "\n",
    "    def calcPercentage(self):\n",
    "        return ((self.Math + self.Eng + self.Sci)/300)*100\n",
    "\n",
    "def dispInfo(table):\n",
    "    print(\n",
    "        \"\\t\\t\\t\\t\\t****\\tSCORE CARD\\t****\\n\" + tabulate(table, headers=\"firstrow\", tablefmt=\"fancy_grid\",colalign=(\"left\",))\n",
    "        + \"\\n\"\n",
    "    )\n",
    "\n",
    "\n",
    "Name = input(\"Enter your name : \")\n",
    "MathsM = int(input(\"Enter marks of Maths : \"))\n",
    "EngM = int(input(\"Enter marks of English : \"))\n",
    "SciM = int(input(\"Enter marks of Science : \"))\n",
    "\n",
    "student = Marks(Name, MathsM, EngM, SciM)\n",
    "\n",
    "table = [\n",
    "    [\n",
    "        \"Name\",\n",
    "        \"Maths\",\n",
    "        \"English\",\n",
    "        \"Science\",\n",
    "        \"Total Marks\",\n",
    "        \"Percentage\",\n",
    "        \"Incentives\",\n",
    "        \"Total Percentage\"\n",
    "    ],\n",
    "    [\n",
    "        student.name,\n",
    "        student.Math,\n",
    "        student.Eng,\n",
    "        student.Sci,\n",
    "        student.calcTotMarks(),\n",
    "        student.calcPercentage(),\n",
    "        \"0.5 %\",\n",
    "        student.calcPercentage() + 0.5\n",
    "    ]\n",
    "]\n",
    "\n",
    "dispInfo(table)\n"
   ]
  },
  {
   "cell_type": "code",
   "execution_count": null,
   "metadata": {},
   "outputs": [],
   "source": []
  }
 ],
 "metadata": {
  "interpreter": {
   "hash": "63fd5069d213b44bf678585dea6b12cceca9941eaf7f819626cde1f2670de90d"
  },
  "kernelspec": {
   "display_name": "Python 3.9.7 64-bit",
   "language": "python",
   "name": "python3"
  },
  "language_info": {
   "codemirror_mode": {
    "name": "ipython",
    "version": 3
   },
   "file_extension": ".py",
   "mimetype": "text/x-python",
   "name": "python",
   "nbconvert_exporter": "python",
   "pygments_lexer": "ipython3",
   "version": "3.9.7"
  },
  "orig_nbformat": 4
 },
 "nbformat": 4,
 "nbformat_minor": 2
}
