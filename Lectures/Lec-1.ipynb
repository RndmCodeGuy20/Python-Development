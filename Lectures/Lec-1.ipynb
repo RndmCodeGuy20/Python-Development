{
 "cells": [
  {
   "cell_type": "code",
   "execution_count": 5,
   "metadata": {},
   "outputs": [
    {
     "name": "stdout",
     "output_type": "stream",
     "text": [
      "hello world\n"
     ]
    }
   ],
   "source": [
    "print(\"hello world\")"
   ]
  },
  {
   "cell_type": "code",
   "execution_count": 6,
   "metadata": {},
   "outputs": [
    {
     "name": "stdout",
     "output_type": "stream",
     "text": [
      "Shantanu Mane\n"
     ]
    }
   ],
   "source": [
    "print(\"Shantanu Mane\")"
   ]
  },
  {
   "cell_type": "code",
   "execution_count": 7,
   "metadata": {},
   "outputs": [
    {
     "name": "stdout",
     "output_type": "stream",
     "text": [
      "hello world\n",
      "shantanu\n"
     ]
    }
   ],
   "source": [
    "print(\"hello world\");print(\"shantanu\")"
   ]
  },
  {
   "cell_type": "code",
   "execution_count": 8,
   "metadata": {},
   "outputs": [
    {
     "name": "stdout",
     "output_type": "stream",
     "text": [
      "20\n"
     ]
    }
   ],
   "source": [
    "a = 20\n",
    "print(a)"
   ]
  },
  {
   "cell_type": "code",
   "execution_count": 9,
   "metadata": {},
   "outputs": [
    {
     "name": "stdout",
     "output_type": "stream",
     "text": [
      "Number :  20\n",
      "Amount :  10.3\n",
      "Signature : S\n",
      "Population of India : 100000000000\n",
      "Name : Shantanu\n"
     ]
    }
   ],
   "source": [
    "num = 20\n",
    "amt = 10.30\n",
    "sign = 'S'\n",
    "name = \"Shantanu\"\n",
    "populationOfIndia = 100000000000\n",
    "\n",
    "print(\"Number : \", num)\n",
    "print(\"Amount : \", amt)\n",
    "print(\"Signature : \" + sign)\n",
    "print(\"Population of India : \" + str(populationOfIndia))\n",
    "print(\"Name : \" + name)"
   ]
  },
  {
   "cell_type": "code",
   "execution_count": 10,
   "metadata": {},
   "outputs": [
    {
     "name": "stdout",
     "output_type": "stream",
     "text": [
      "Name : Shantanu Mane \n",
      "Age = 67 \n",
      "Classification = Senior Citizen\n"
     ]
    }
   ],
   "source": [
    "age = int(input(\"Enter your age : \"))\n",
    "name = \"Shantanu Mane\"\n",
    "\n",
    "if (age >= 60):                                                                 #! False\n",
    "    print(f'Name : {name} \\nAge = {age} \\nClassification = Senior Citizen')\n",
    "elif (age <= 60 or age >= 18):                                                  #*True\n",
    "    print(f'Name : {name} \\nAge = {age} \\nClassification = Adult')\n",
    "elif (age <= 18):                                                               #!False\n",
    "    print(f'Name : {name} \\nAge = {age} \\nClassification = Child')\n",
    "else:                                                                           #$Conditional\n",
    "    print(f'Name : {name} \\nAge = {age} \\nClassification = Senior Citizen')\n"
   ]
  },
  {
   "cell_type": "code",
   "execution_count": 11,
   "metadata": {},
   "outputs": [
    {
     "name": "stdout",
     "output_type": "stream",
     "text": [
      "your age :  56\n"
     ]
    }
   ],
   "source": [
    "age = input(\"Enter your age : \")\n",
    "print(\"your age : \" , age)"
   ]
  },
  {
   "cell_type": "markdown",
   "metadata": {},
   "source": [
    "# Try Yourself - 1\n",
    "\n",
    "### Write a program to accept two numbers as input and perform all arithmetic operations on them [**, *,+, -, /,//,% ]"
   ]
  },
  {
   "cell_type": "code",
   "execution_count": 12,
   "metadata": {},
   "outputs": [
    {
     "name": "stdout",
     "output_type": "stream",
     "text": [
      "Value of a =  7\n",
      "Value of b =  5\n",
      "Operation a**b =  16807\n",
      "Operation a*b =  35\n",
      "Operation a+b =  12\n",
      "Operation a-b =  2\n",
      "Operation a/b =  1.4\n",
      "Operation a%b =  2\n",
      "Operation a//b =  1\n"
     ]
    }
   ],
   "source": [
    "a = int(input(\"Enter number a : \"))\n",
    "b = int(input(\"Enter number b : \"))\n",
    "\n",
    "print(\"Value of a = \", a)\n",
    "print(\"Value of b = \", b)\n",
    "\n",
    "print(\"Operation a**b = \", a**b)    #- Performs a^b\n",
    "print(\"Operation a*b = \", a*b)      #- Performs a * b\n",
    "print(\"Operation a+b = \", a+b)      #- Performs a + b\n",
    "print(\"Operation a-b = \", a-b)      #- Performs a - b\n",
    "print(\"Operation a/b = \", a/b)      #- Performs a / b\n",
    "print(\"Operation a%b = \", a%b)      #- Performs a % b, gives remainder value of a / b \n",
    "print(\"Operation a//b = \", a//b)    #- Performs a // b, gives quotient a / b\n"
   ]
  },
  {
   "cell_type": "markdown",
   "metadata": {},
   "source": [
    "# Try Yourself - 2\n",
    "\n",
    "### Write a program to accept two numbers as input and print the values of :\n",
    "\n",
    "1. Comparison/relational\n",
    "[>,<,==,!=,>=,<=]\n",
    "\n",
    "2. Bitwise Operators[ &[and], |[or],\n",
    "not(!) ^(xor), right shift (>>) and left\n",
    "shift(<<) 🡪 operate on binary numbers"
   ]
  },
  {
   "cell_type": "code",
   "execution_count": 13,
   "metadata": {},
   "outputs": [
    {
     "name": "stdout",
     "output_type": "stream",
     "text": [
      "Value of a =  54\n",
      "Value of b =  4\n",
      "a > b :  True\n",
      "a < b :  False\n",
      "a == b :  False\n",
      "a != b :  True\n",
      "a >= b :  True\n",
      "a <= b :  False\n"
     ]
    }
   ],
   "source": [
    "a = int(input(\"Enter number a : \"))\n",
    "b = int(input(\"Enter number b : \"))\n",
    "\n",
    "print(\"Value of a = \", a)\n",
    "print(\"Value of b = \", b)\n",
    "\n",
    "print(\"a > b : \", a > b)\n",
    "print(\"a < b : \", a < b)\n",
    "print(\"a == b : \", a == b)\n",
    "print(\"a != b : \", a != b)\n",
    "print(\"a >= b : \", a>=b)\n",
    "print(\"a <= b : \", a<=b)"
   ]
  },
  {
   "cell_type": "code",
   "execution_count": 14,
   "metadata": {},
   "outputs": [
    {
     "name": "stdout",
     "output_type": "stream",
     "text": [
      "Value of a =  True\n",
      "Value of b =  False\n",
      "a and b :  False\n",
      "a or b :  True\n",
      "not a :  False\n",
      "not b :  True\n",
      "a xor b :  True\n"
     ]
    }
   ],
   "source": [
    "a = True\n",
    "b = False\n",
    "\n",
    "print(\"Value of a = \", a)\n",
    "print(\"Value of b = \", b)\n",
    "\n",
    "print(\"a and b : \",a and b)\n",
    "print(\"a or b : \",a or b)\n",
    "print(\"not a : \",not a)\n",
    "print(\"not b : \",not b)\n",
    "print(\"a xor b : \",a ^ b)"
   ]
  },
  {
   "cell_type": "code",
   "execution_count": 15,
   "metadata": {},
   "outputs": [
    {
     "name": "stdout",
     "output_type": "stream",
     "text": [
      "a | b :  30\n",
      "a & b :  0\n",
      "a xor b :  30\n",
      "not a :  -11\n",
      "not b :  -21\n"
     ]
    }
   ],
   "source": [
    "a = 10    #- (1010)2\n",
    "b = 20   #- (10100)2\n",
    "\n",
    "#* Bitwise Operations on a and b\n",
    "\n",
    "print(\"a | b : \", a | b)\n",
    "print(\"a & b : \", a & b)\n",
    "print(\"a xor b : \", a ^ b)\n",
    "print(\"not a : \", ~a)\n",
    "print(\"not b : \", ~b)"
   ]
  },
  {
   "cell_type": "code",
   "execution_count": 16,
   "metadata": {},
   "outputs": [
    {
     "name": "stdout",
     "output_type": "stream",
     "text": [
      "a >> 1 = 5\n",
      "b >> 1 = -5\n",
      "a << 1 = 10\n",
      "b << 1 = -20\n"
     ]
    }
   ],
   "source": [
    "a = 10\n",
    "b = -10\n",
    " \n",
    "# print bitwise right shift operator\n",
    "print(\"a >> 1 =\", a >> 1)\n",
    "print(\"b >> 1 =\", b >> 1)\n",
    " \n",
    "a = 5\n",
    "b = -10\n",
    " \n",
    "# print bitwise left shift operator\n",
    "print(\"a << 1 =\", a << 1)\n",
    "print(\"b << 1 =\", b << 1)"
   ]
  },
  {
   "cell_type": "markdown",
   "metadata": {},
   "source": [
    "# Try Yourself - 3\n",
    "\n",
    "### Compute the value of an expression :\n",
    "\n",
    "A=b-c/d*e\n",
    "\n",
    "By accepting the values of b,c,d and e\n",
    "from the user."
   ]
  },
  {
   "cell_type": "code",
   "execution_count": 17,
   "metadata": {},
   "outputs": [
    {
     "name": "stdout",
     "output_type": "stream",
     "text": [
      "b - c/d * e =  -32.5\n"
     ]
    }
   ],
   "source": [
    "b = int(input(\"Enter a number :\"))\n",
    "c = int(input(\"Enter a number :\"))\n",
    "d = int(input(\"Enter a number :\"))\n",
    "e = int(input(\"Enter a number :\"))\n",
    "\n",
    "A = b - c/d * e\n",
    "\n",
    "print(\"b - c/d * e = \", A)"
   ]
  },
  {
   "cell_type": "markdown",
   "metadata": {},
   "source": [
    "# Try Yourself - 4\n",
    "\n",
    "### Write Python code to :\n",
    "- Create a variable x with the value 100 \n",
    "- Increase the value of x fivefold using an augmented assignment operator\n",
    "\n"
   ]
  },
  {
   "cell_type": "code",
   "execution_count": 18,
   "metadata": {},
   "outputs": [
    {
     "name": "stdout",
     "output_type": "stream",
     "text": [
      "500\n"
     ]
    }
   ],
   "source": [
    "x = 100\n",
    "\n",
    "x *= 5\n",
    "\n",
    "print(x)"
   ]
  },
  {
   "cell_type": "markdown",
   "metadata": {},
   "source": [
    "# PRACTICAL NO. 1 [Batch-1]\n",
    "\n",
    "1. Write a python program to convert from Kilometer to miles [use type casting to float for input value.)\n",
    "2. Write a python program to calculate Euclidean distance between two points A(x1,y1) and B(x2,y2) $AB = √[(x_2 – x_1)^2 + (y_2 – y_1)^2]$\n",
    "3. Write a python program to generate bill a grocery store. Accept from user: name of item, quantity, cost for three items. Compute the actual cost payable by applying discount(in %) and tax(in %). Print the bill in following format."
   ]
  },
  {
   "cell_type": "code",
   "execution_count": 19,
   "metadata": {},
   "outputs": [
    {
     "name": "stdout",
     "output_type": "stream",
     "text": [
      "Entered value : 74.38 km\n",
      "\n",
      "Distance in miles : 46.22747 mi\n"
     ]
    }
   ],
   "source": [
    "# Solution. 1\n",
    "\n",
    "distKm = float(input(\"Enter the distance (in km) : \"))\n",
    "\n",
    "print(f\"Entered value : {distKm} km\\n\")\n",
    "\n",
    "distMiles = distKm / 1.609\n",
    "accDistMiles = \"{:.5f}\".format(distMiles)\n",
    "\n",
    "print(f\"Distance in miles : {accDistMiles} mi\")"
   ]
  },
  {
   "cell_type": "code",
   "execution_count": 20,
   "metadata": {},
   "outputs": [
    {
     "name": "stdout",
     "output_type": "stream",
     "text": [
      "The distance between the two points A(3,4) and B(4,5) using the Euclidian formula is : 1.41421\n"
     ]
    }
   ],
   "source": [
    "# Solution. 2\n",
    "\n",
    "import math\n",
    "\n",
    "def delSq(x,y):\n",
    "    z = (x - y)**2\n",
    "    return z\n",
    "\n",
    "# Points : A(3,4) , B(4,5)\n",
    "\n",
    "x1 = 3\n",
    "y1 = 4\n",
    "\n",
    "x2 = 4\n",
    "y2 = 5\n",
    "\n",
    "zX = delSq(x2, x1)\n",
    "zY = delSq(y2, y1)\n",
    "\n",
    "Rez = math.sqrt(zX + zY)\n",
    "accRez = \"{:.5f}\".format(Rez)\n",
    "\n",
    "print(f\"The distance between the two points A(3,4) and B(4,5) using the Euclidian formula is : {accRez}\")"
   ]
  },
  {
   "cell_type": "code",
   "execution_count": 1,
   "metadata": {},
   "outputs": [
    {
     "name": "stdout",
     "output_type": "stream",
     "text": [
      "1650\n"
     ]
    }
   ],
   "source": [
    "# Solution 1.\n",
    "\n",
    "def calcArea(length, breadth):\n",
    "    return length*breadth\n",
    "\n",
    "length = float(input(\"Enter the length : \"))\n",
    "breadth = float(input(\"Enter the breadth : \"))\n",
    "\n",
    "Area = calcArea(length, breadth)\n",
    "\n",
    "print(int(Area))"
   ]
  },
  {
   "cell_type": "code",
   "execution_count": 22,
   "metadata": {},
   "outputs": [],
   "source": [
    "from tabulate import tabulate"
   ]
  },
  {
   "cell_type": "code",
   "execution_count": 23,
   "metadata": {},
   "outputs": [
    {
     "name": "stdout",
     "output_type": "stream",
     "text": [
      "\t\t\t\t\t****\tSCORE CARD\t****\n",
      "╒══════════╤═════════╤═══════════╤═══════════╤═══════════════╤══════════════╤══════════════╤════════════════════╕\n",
      "│ Name     │   Maths │   English │   Science │   Total Marks │   Percentage │ Incentives   │   Total Percentage │\n",
      "╞══════════╪═════════╪═══════════╪═══════════╪═══════════════╪══════════════╪══════════════╪════════════════════╡\n",
      "│ Shantanu │      94 │        90 │        93 │           277 │      92.3333 │ 0.5 %        │            92.8333 │\n",
      "╘══════════╧═════════╧═══════════╧═══════════╧═══════════════╧══════════════╧══════════════╧════════════════════╛\n",
      "\n"
     ]
    }
   ],
   "source": [
    "class Marks:\n",
    "    def __init__(self, name: str, Maths: float, English: float, Science: float):\n",
    "        self.name = name\n",
    "        self.Math = Maths\n",
    "        self.Eng = English\n",
    "        self.Sci = Science\n",
    "\n",
    "    def calcTotMarks(self):\n",
    "        return self.Math + self.Eng + self.Sci\n",
    "\n",
    "    def calcPercentage(self):\n",
    "        return ((self.Math + self.Eng + self.Sci)/300)*100\n",
    "\n",
    "def dispInfo(table):\n",
    "    print(\n",
    "        \"\\t\\t\\t\\t\\t****\\tSCORE CARD\\t****\\n\" + tabulate(table, headers=\"firstrow\", tablefmt=\"fancy_grid\",colalign=(\"left\",))\n",
    "        + \"\\n\"\n",
    "    )\n",
    "\n",
    "\n",
    "Name = input(\"Enter your name : \")\n",
    "MathsM = int(input(\"Enter marks of Maths : \"))\n",
    "EngM = int(input(\"Enter marks of English : \"))\n",
    "SciM = int(input(\"Enter marks of Science : \"))\n",
    "\n",
    "student = Marks(\"Shantanu\", 94, 90, 93)\n",
    "\n",
    "table = [\n",
    "    [\n",
    "        \"Name\",\n",
    "        \"Maths\",\n",
    "        \"English\",\n",
    "        \"Science\",\n",
    "        \"Total Marks\",\n",
    "        \"Percentage\",\n",
    "        \"Incentives\",\n",
    "        \"Total Percentage\"\n",
    "    ],\n",
    "    [\n",
    "        student.name,\n",
    "        student.Math,\n",
    "        student.Eng,\n",
    "        student.Sci,\n",
    "        student.calcTotMarks(),\n",
    "        student.calcPercentage(),\n",
    "        \"0.5 %\",\n",
    "        student.calcPercentage() + 0.5\n",
    "    ]\n",
    "]\n",
    "\n",
    "dispInfo(table)\n"
   ]
  },
  {
   "cell_type": "code",
   "execution_count": null,
   "metadata": {},
   "outputs": [],
   "source": []
  }
 ],
 "metadata": {
  "interpreter": {
   "hash": "63fd5069d213b44bf678585dea6b12cceca9941eaf7f819626cde1f2670de90d"
  },
  "kernelspec": {
   "display_name": "Python 3.9.7 64-bit",
   "language": "python",
   "name": "python3"
  },
  "language_info": {
   "codemirror_mode": {
    "name": "ipython",
    "version": 3
   },
   "file_extension": ".py",
   "mimetype": "text/x-python",
   "name": "python",
   "nbconvert_exporter": "python",
   "pygments_lexer": "ipython3",
   "version": "3.9.7"
  },
  "orig_nbformat": 4
 },
 "nbformat": 4,
 "nbformat_minor": 2
}
