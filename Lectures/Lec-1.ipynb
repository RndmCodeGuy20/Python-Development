{
 "cells": [
  {
   "cell_type": "code",
   "execution_count": 2,
   "metadata": {},
   "outputs": [
    {
     "name": "stdout",
     "output_type": "stream",
     "text": [
      "hello world\n"
     ]
    }
   ],
   "source": [
    "print(\"hello world\")"
   ]
  },
  {
   "cell_type": "code",
   "execution_count": 3,
   "metadata": {},
   "outputs": [
    {
     "name": "stdout",
     "output_type": "stream",
     "text": [
      "Shantanu Mane\n"
     ]
    }
   ],
   "source": [
    "print(\"Shantanu Mane\")"
   ]
  },
  {
   "cell_type": "code",
   "execution_count": 4,
   "metadata": {},
   "outputs": [
    {
     "name": "stdout",
     "output_type": "stream",
     "text": [
      "hello world\n",
      "shantanu\n"
     ]
    }
   ],
   "source": [
    "print(\"hello world\");print(\"shantanu\")"
   ]
  },
  {
   "cell_type": "code",
   "execution_count": 5,
   "metadata": {},
   "outputs": [
    {
     "name": "stdout",
     "output_type": "stream",
     "text": [
      "20\n"
     ]
    }
   ],
   "source": [
    "a = 20\n",
    "print(a)"
   ]
  },
  {
   "cell_type": "code",
   "execution_count": 29,
   "metadata": {},
   "outputs": [
    {
     "name": "stdout",
     "output_type": "stream",
     "text": [
      "Number :  20\n",
      "Amount :  10.3\n",
      "Signature : S\n",
      "Population of India : 100000000000\n",
      "Name : Shantanu\n"
     ]
    }
   ],
   "source": [
    "num = 20\n",
    "amt = 10.30\n",
    "sign = 'S'\n",
    "name = \"Shantanu\"\n",
    "populationOfIndia = 100000000000\n",
    "\n",
    "print(\"Number : \", num)\n",
    "print(\"Amount : \", amt)\n",
    "print(\"Signature : \" + sign)\n",
    "print(\"Population of India : \" + str(populationOfIndia))\n",
    "print(\"Name : \" + name)"
   ]
  },
  {
   "cell_type": "code",
   "execution_count": 24,
   "metadata": {},
   "outputs": [
    {
     "name": "stdout",
     "output_type": "stream",
     "text": [
      "Name : Shantanu Mane \n",
      "Age = 20 \n",
      "Classification = Adult\n"
     ]
    }
   ],
   "source": [
    "age = int(input(\"Enter your age : \"))\n",
    "name = \"Shantanu Mane\"\n",
    "\n",
    "if (age >= 60):                                                                 #! False\n",
    "    print(f'Name : {name} \\nAge = {age} \\nClassification = Senior Citizen')\n",
    "elif (age <= 60 or age >= 18):                                                  #*True\n",
    "    print(f'Name : {name} \\nAge = {age} \\nClassification = Adult')\n",
    "elif (age <= 18):                                                               #!False\n",
    "    print(f'Name : {name} \\nAge = {age} \\nClassification = Child')\n",
    "else:                                                                           #$Conditional\n",
    "    print(f'Name : {name} \\nAge = {age} \\nClassification = Senior Citizen')\n"
   ]
  },
  {
   "cell_type": "code",
   "execution_count": 25,
   "metadata": {},
   "outputs": [
    {
     "name": "stdout",
     "output_type": "stream",
     "text": [
      "your age :  20\n"
     ]
    }
   ],
   "source": [
    "age = input(\"Enter your age : \")\n",
    "print(\"your age : \" , age)"
   ]
  },
  {
   "cell_type": "code",
   "execution_count": null,
   "metadata": {},
   "outputs": [],
   "source": []
  }
 ],
 "metadata": {
  "interpreter": {
   "hash": "63fd5069d213b44bf678585dea6b12cceca9941eaf7f819626cde1f2670de90d"
  },
  "kernelspec": {
   "display_name": "Python 3.9.7 64-bit",
   "language": "python",
   "name": "python3"
  },
  "language_info": {
   "codemirror_mode": {
    "name": "ipython",
    "version": 3
   },
   "file_extension": ".py",
   "mimetype": "text/x-python",
   "name": "python",
   "nbconvert_exporter": "python",
   "pygments_lexer": "ipython3",
   "version": "3.9.7"
  },
  "orig_nbformat": 4
 },
 "nbformat": 4,
 "nbformat_minor": 2
}
