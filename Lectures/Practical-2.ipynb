{
 "cells": [
  {
   "cell_type": "code",
   "execution_count": 4,
   "metadata": {},
   "outputs": [
    {
     "name": "stdout",
     "output_type": "stream",
     "text": [
      "Word one : Minister \n",
      "Word two : Morgan\n",
      "Letters not present in both are : \n",
      "i\n",
      "i\n",
      "s\n",
      "t\n",
      "e\n",
      "o\n",
      "g\n",
      "a\n"
     ]
    }
   ],
   "source": [
    "word1 = str(input(\"Enter word : \"))\n",
    "word2 = str(input(\"Enter word : \"))\n",
    "\n",
    "print(f\"Word one : {word1} \\nWord two : {word2}\")\n",
    "\n",
    "print(\"Letters not present in both are : \")\n",
    "\n",
    "for el in word1:\n",
    "    if el not in word2:\n",
    "        print(el)\n",
    "\n",
    "for el in word2:\n",
    "    if el not in word1:\n",
    "        print(el)"
   ]
  },
  {
   "cell_type": "code",
   "execution_count": 7,
   "metadata": {},
   "outputs": [
    {
     "name": "stdout",
     "output_type": "stream",
     "text": [
      "[6, 3, 4, 2, 5, 1]\n"
     ]
    }
   ],
   "source": [
    "input_list = [2,5,1,6,3,4]\n",
    "# num_rotations = int(input(\"Enter number of rotaions : \"))\n",
    "\n",
    "for i in range(3):\n",
    "    temp = input_list[0]\n",
    "    output_list = input_list[1:]\n",
    "    output_list.append(temp)\n",
    "    input_list = output_list\n",
    "\n",
    "\n",
    "print(output_list)"
   ]
  },
  {
   "cell_type": "code",
   "execution_count": null,
   "metadata": {},
   "outputs": [],
   "source": []
  }
 ],
 "metadata": {
  "interpreter": {
   "hash": "63fd5069d213b44bf678585dea6b12cceca9941eaf7f819626cde1f2670de90d"
  },
  "kernelspec": {
   "display_name": "Python 3.9.7 64-bit",
   "language": "python",
   "name": "python3"
  },
  "language_info": {
   "codemirror_mode": {
    "name": "ipython",
    "version": 3
   },
   "file_extension": ".py",
   "mimetype": "text/x-python",
   "name": "python",
   "nbconvert_exporter": "python",
   "pygments_lexer": "ipython3",
   "version": "3.9.7"
  },
  "orig_nbformat": 4
 },
 "nbformat": 4,
 "nbformat_minor": 2
}
