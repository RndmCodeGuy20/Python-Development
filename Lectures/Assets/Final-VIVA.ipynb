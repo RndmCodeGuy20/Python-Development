{
 "cells": [
  {
   "cell_type": "code",
   "execution_count": 9,
   "metadata": {},
   "outputs": [
    {
     "name": "stdout",
     "output_type": "stream",
     "text": [
      "Hello World\n"
     ]
    }
   ],
   "source": [
    "print(\"Hello World\")"
   ]
  },
  {
   "cell_type": "code",
   "execution_count": 2,
   "metadata": {},
   "outputs": [
    {
     "name": "stdout",
     "output_type": "stream",
     "text": [
      "Shantanu Gajanan Mane\n"
     ]
    }
   ],
   "source": [
    "fName, mName, lName = \"Shantanu\", \"Gajanan\", \"Mane\"\n",
    "print(fName, mName, lName)"
   ]
  },
  {
   "cell_type": "code",
   "execution_count": 3,
   "metadata": {},
   "outputs": [
    {
     "name": "stdout",
     "output_type": "stream",
     "text": [
      "Shantanu Mane,\n",
      "Shantanu Mane\n"
     ]
    }
   ],
   "source": [
    "name = fullName = myName = \"Shantanu Mane\"\n",
    "\n",
    "print(f\"{name},\\n{fullName}\")"
   ]
  },
  {
   "cell_type": "code",
   "execution_count": 4,
   "metadata": {},
   "outputs": [
    {
     "data": {
      "text/plain": [
       "700.0"
      ]
     },
     "execution_count": 4,
     "metadata": {},
     "output_type": "execute_result"
    }
   ],
   "source": [
    "x = 400\n",
    "y = 300.0\n",
    "\n",
    "x+y"
   ]
  },
  {
   "cell_type": "code",
   "execution_count": 5,
   "metadata": {},
   "outputs": [
    {
     "name": "stdout",
     "output_type": "stream",
     "text": [
      "Mane\n"
     ]
    }
   ],
   "source": [
    "x = \"Shantanu\"\n",
    "\n",
    "def printName():\n",
    "    x = \"Mane\"\n",
    "    print(x)\n",
    "\n",
    "printName()"
   ]
  },
  {
   "cell_type": "code",
   "execution_count": 6,
   "metadata": {},
   "outputs": [
    {
     "name": "stdout",
     "output_type": "stream",
     "text": [
      "Shantanu, 20, 20.0, <class 'complex'>, <class 'bool'>, b'Shantanu'\n"
     ]
    }
   ],
   "source": [
    "stringType = \"Shantanu\"\n",
    "intType = 20\n",
    "floatType = 20.0\n",
    "complexType = 1j\n",
    "boolType = True\n",
    "byteType = b\"Shantanu\"\n",
    "\n",
    "print(f\"{stringType}, {intType}, {floatType}, {type(complexType)}, {type(boolType)}, {byteType}\");"
   ]
  },
  {
   "cell_type": "code",
   "execution_count": 8,
   "metadata": {},
   "outputs": [
    {
     "name": "stdout",
     "output_type": "stream",
     "text": [
      "20, 20.0, 20j\n"
     ]
    }
   ],
   "source": [
    "# numeric data types\n",
    "\n",
    "intType = 20\n",
    "floatType = 20.0\n",
    "complexType = 20j\n",
    "\n",
    "print(f\"{intType}, {floatType}, {complexType}\")"
   ]
  },
  {
   "cell_type": "code",
   "execution_count": null,
   "metadata": {},
   "outputs": [],
   "source": []
  }
 ],
 "metadata": {
  "interpreter": {
   "hash": "63fd5069d213b44bf678585dea6b12cceca9941eaf7f819626cde1f2670de90d"
  },
  "kernelspec": {
   "display_name": "Python 3.9.7 64-bit",
   "language": "python",
   "name": "python3"
  },
  "language_info": {
   "codemirror_mode": {
    "name": "ipython",
    "version": 3
   },
   "file_extension": ".py",
   "mimetype": "text/x-python",
   "name": "python",
   "nbconvert_exporter": "python",
   "pygments_lexer": "ipython3",
   "version": "3.9.7"
  },
  "orig_nbformat": 4
 },
 "nbformat": 4,
 "nbformat_minor": 2
}
