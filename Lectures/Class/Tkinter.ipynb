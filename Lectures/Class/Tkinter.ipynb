{
 "cells": [
  {
   "cell_type": "code",
   "execution_count": 2,
   "metadata": {},
   "outputs": [],
   "source": [
    "import tkinter as tk"
   ]
  },
  {
   "cell_type": "code",
   "execution_count": 3,
   "metadata": {},
   "outputs": [],
   "source": [
    "window = tk.Tk()\n",
    "window.title(\"Shantanu Mane\")\n",
    "label = tk.Label(window, text=\"Hello World\").pack()\n",
    "window.mainloop()"
   ]
  },
  {
   "cell_type": "code",
   "execution_count": 4,
   "metadata": {},
   "outputs": [],
   "source": [
    "window = tk.Tk()\n",
    "window.title(\"Shantanu Mane\")\n",
    "label = tk.Label(window, text=\"Hello World\", font=(\"JetBrains Mono Bold Italic\", 50)).pack()\n",
    "window.mainloop()"
   ]
  },
  {
   "cell_type": "code",
   "execution_count": 5,
   "metadata": {},
   "outputs": [],
   "source": [
    "window = tk.Tk()\n",
    "window.title(\"Shantanu Mane\")\n",
    "label = tk.Label(\n",
    "    window,\n",
    "    bg=\"#025E73\",\n",
    "    fg=\"#F2668B\",\n",
    "    font=(\"JetBrains Mono Italic\", 50),\n",
    "    text=\"Hello World\"\n",
    ").pack()\n",
    "window.mainloop()"
   ]
  },
  {
   "cell_type": "code",
   "execution_count": 6,
   "metadata": {},
   "outputs": [
    {
     "name": "stdout",
     "output_type": "stream",
     "text": [
      "Hello World\n",
      "Hello Shantanu\n",
      "Hello Shantanu\n",
      "Hello World\n"
     ]
    }
   ],
   "source": [
    "app = tk.Tk()\n",
    "\n",
    "def writeHello():\n",
    "    print(\"Hello World\")\n",
    "\n",
    "def writeShan():\n",
    "    print(\"Hello Shantanu\")\n",
    "\n",
    "printHello = tk.Button(\n",
    "    app,\n",
    "    text=\"Hello\",\n",
    "    font=(\"JetBrains Mono\", 14),\n",
    "    bg=\"#025E73\",\n",
    "    fg=\"#F2668B\",\n",
    "    command=writeHello\n",
    ").pack()\n",
    "\n",
    "printShan = tk.Button(\n",
    "    app,\n",
    "    text=\"Shantanu\",\n",
    "    font=(\"JetBrains Mono\", 14),\n",
    "    bg=\"#025E73\",\n",
    "    fg=\"#F2668B\",\n",
    "    command=writeShan\n",
    ").pack()\n",
    "\n",
    "app.mainloop()"
   ]
  },
  {
   "cell_type": "code",
   "execution_count": 18,
   "metadata": {},
   "outputs": [
    {
     "name": "stdout",
     "output_type": "stream",
     "text": [
      "True\n",
      "False\n",
      "True\n",
      "False\n",
      "True\n",
      "True\n",
      "True\n",
      "True\n",
      "True\n",
      "True\n",
      "True\n",
      "True\n"
     ]
    }
   ],
   "source": [
    "app = tk.Tk()\n",
    "\n",
    "app.title(\"Radio Button Example\")\n",
    "\n",
    "appLabel = tk.Label(\n",
    "    app,\n",
    "    text=\"Select true or false : \"\n",
    ").pack()\n",
    "\n",
    "data = tk.BooleanVar()\n",
    "\n",
    "def printData():\n",
    "    print(data.get())\n",
    "\n",
    "trueBtn = tk.Radiobutton(\n",
    "    app,\n",
    "    variable=data,\n",
    "    value=True,\n",
    "    padx=20,\n",
    "    pady=20,\n",
    "    text='True',\n",
    "    font=(\"JetBrains Mono\", 14),\n",
    "    bg=\"#025E73\",\n",
    "    fg=\"#F2668B\",\n",
    "    command=printData\n",
    ").pack()\n",
    "\n",
    "falseBtn = tk.Radiobutton(\n",
    "    app,\n",
    "    variable=data,\n",
    "    value=False,\n",
    "    padx=20,\n",
    "    pady=20,\n",
    "    text='True',\n",
    "    font=(\"JetBrains Mono\", 14),\n",
    "    bg=\"#025E73\",\n",
    "    fg=\"#F2668B\",\n",
    "    command=printData\n",
    ").pack()\n",
    "\n",
    "app.mainloop()"
   ]
  },
  {
   "cell_type": "code",
   "execution_count": 21,
   "metadata": {},
   "outputs": [
    {
     "name": "stdout",
     "output_type": "stream",
     "text": [
      "Shantanu\n",
      "Shantanu\n",
      "Shantanu\n",
      "Shantanu Mane\n",
      "Shantanu Mane\n",
      "Shantanu Mane\n",
      "Shantanu Mane is the best\n",
      "Shantanu Mane is the best\n",
      "Shantanu Mane is the best\n",
      "2 + 2\n",
      "2 + 2\n",
      "2 + 2 = 4\n"
     ]
    }
   ],
   "source": [
    "app = tk.Tk()\n",
    "\n",
    "app.title(\"Data Entry\")\n",
    "\n",
    "appLabel = tk.Label(\n",
    "    app,\n",
    "    text=\"Enter the data :\"\n",
    ").pack()\n",
    "\n",
    "appInp = tk.Entry(app)\n",
    "appInp.pack()\n",
    "\n",
    "def printData():\n",
    "    print(appInp.get())\n",
    "\n",
    "tk.Button(\n",
    "    app,\n",
    "    text=\"Enter\",\n",
    "    command=printData\n",
    ").pack()\n",
    "\n",
    "app.mainloop()"
   ]
  },
  {
   "cell_type": "code",
   "execution_count": 23,
   "metadata": {},
   "outputs": [],
   "source": [
    "app = tk.Tk()\n",
    "\n",
    "app.title(\"Frames\")\n",
    "\n",
    "frame1 = tk.Frame(\n",
    "    master=app,\n",
    "    height=10,\n",
    "    width=10,\n",
    "    bg=\"orange\"\n",
    ")\n",
    "frame1.pack()\n",
    "\n",
    "\n",
    "frame2 = tk.Frame(\n",
    "    master=app,\n",
    "    height=100,\n",
    "    width=210,\n",
    "    bg=\"red\"\n",
    ")\n",
    "frame2.pack()\n",
    "\n",
    "app.mainloop()"
   ]
  },
  {
   "cell_type": "code",
   "execution_count": 26,
   "metadata": {},
   "outputs": [],
   "source": [
    "colors = [\n",
    "    '#3874ef',\n",
    "    '#cc5cd5',\n",
    "    '#ff4c99',\n",
    "    '#ff7055',\n",
    "    '#ffa600'\n",
    "]"
   ]
  },
  {
   "cell_type": "code",
   "execution_count": 39,
   "metadata": {},
   "outputs": [
    {
     "name": "stderr",
     "output_type": "stream",
     "text": [
      "Exception in Tkinter callback\n",
      "Traceback (most recent call last):\n",
      "  File \"C:\\Python39\\lib\\tkinter\\__init__.py\", line 1892, in __call__\n",
      "    return self.func(*args)\n",
      "  File \"C:\\Users\\SHANTANU\\AppData\\Local\\Temp/ipykernel_16832/3144336956.py\", line 26, in calcAge\n",
      "    month = int(entryM.get())\n",
      "ValueError: invalid literal for int() with base 10: ''\n"
     ]
    }
   ],
   "source": [
    "from datetime import date\n",
    "\n",
    "today = date.today()\n",
    "\n",
    "ageApp = tk.Tk()\n",
    "\n",
    "welcomeMsg1 = tk.Label(\n",
    "    ageApp,\n",
    "    text=\"Shantanu Mane - Age Calculator\",\n",
    "    font=(\"JetBrains Mono\", 24),\n",
    "    fg=colors[0],\n",
    "    bg=colors[4]\n",
    ").pack()\n",
    "welcomeMsg2 = tk.Label(\n",
    "    ageApp,\n",
    "    font=(\"Arial\",12),\n",
    "    text=\"Enter birth month and year\",\n",
    "    fg=colors[0],\n",
    "    bg=colors[4]\n",
    ").pack()\n",
    "\n",
    "def exit():\n",
    "    ageApp.destroy()\n",
    "\n",
    "def calcAge():\n",
    "    month = int(entryM.get())\n",
    "    year = int(entryY.get())\n",
    "    age = today.year - year - ((today.month) < (month))\n",
    "\n",
    "    rezVal.config(state='normal')\n",
    "    rezVal.delete('1.0', tk.END)\n",
    "    rezVal.insert(tk.END,age)\n",
    "    rezVal.config(state='disabled')\n",
    " \n",
    "Month = tk.Label(\n",
    "    ageApp,\n",
    "    text=\"Month: \",\n",
    "    font=('JetBrains Mono',12,\"bold\"),\n",
    "    fg=colors[0],\n",
    "    bg=colors[4]\n",
    ").pack()\n",
    "\n",
    "Year = tk.Label(\n",
    "    ageApp,\n",
    "    text=\"Year: \",\n",
    "    font=('JetBrains Mono',12,\"bold\"),\n",
    "    fg=colors[0],\n",
    "    bg=colors[4]\n",
    ").pack()\n",
    "\n",
    "entryM = tk.Entry(\n",
    "    ageApp,\n",
    "    width=5\n",
    ")\n",
    "entryM.pack()\n",
    "\n",
    "entryY = tk.Entry(\n",
    "    ageApp,\n",
    "    width=5\n",
    ")\n",
    "entryY.pack()\n",
    "\n",
    "calcBtn = tk.Button(\n",
    "    ageApp,\n",
    "    text=\"Calculate Age!\",\n",
    "    font=(\"JetBrains Mono\",13),\n",
    "    command=calcAge\n",
    ").pack()\n",
    " \n",
    "rezLabel = tk.Label(\n",
    "    ageApp,\n",
    "    text=\"Your Age is : \",\n",
    "    font=(\"JetBrains Mono\", 12),\n",
    "    fg=colors[0],\n",
    "    bg=colors[4]\n",
    ").pack()\n",
    "\n",
    "rezVal = tk.Text(\n",
    "    ageApp,\n",
    "    width=5,\n",
    "    height=0,\n",
    "    state=\"disabled\"\n",
    ")\n",
    " \n",
    "exitBtn = tk.Button(\n",
    "    ageApp,\n",
    "    text=\"Exit Application!\",\n",
    "    font=(\"JetBrains Mono\",13),\n",
    "    command=exit\n",
    ")\n",
    "\n",
    "ageApp.mainloop()"
   ]
  },
  {
   "cell_type": "code",
   "execution_count": null,
   "metadata": {},
   "outputs": [],
   "source": []
  }
 ],
 "metadata": {
  "interpreter": {
   "hash": "63fd5069d213b44bf678585dea6b12cceca9941eaf7f819626cde1f2670de90d"
  },
  "kernelspec": {
   "display_name": "Python 3.9.7 64-bit",
   "language": "python",
   "name": "python3"
  },
  "language_info": {
   "codemirror_mode": {
    "name": "ipython",
    "version": 3
   },
   "file_extension": ".py",
   "mimetype": "text/x-python",
   "name": "python",
   "nbconvert_exporter": "python",
   "pygments_lexer": "ipython3",
   "version": "3.9.7"
  },
  "orig_nbformat": 4
 },
 "nbformat": 4,
 "nbformat_minor": 2
}
