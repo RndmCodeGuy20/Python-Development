{
 "cells": [
  {
   "cell_type": "markdown",
   "metadata": {},
   "source": [
    "## <font color='blue'> Python-Tkinter Basics </font>\n",
    "- Why GUI?\n",
    "In simple words to provide simple Graphical User Interface to end users.\n",
    "- What is Tkinter\n",
    "Tkinter is python interface for tk()\n",
    "\n",
    "### <font color='red'> Tkinter Having Three Main Componenets : 1. Widgets 2. Geomery Manager and 3. Windows </font>"
   ]
  },
  {
   "cell_type": "code",
   "execution_count": null,
   "metadata": {},
   "outputs": [],
   "source": [
    "# pip install tkinter"
   ]
  },
  {
   "cell_type": "code",
   "execution_count": null,
   "metadata": {},
   "outputs": [],
   "source": [
    "import tkinter as tk"
   ]
  },
  {
   "cell_type": "markdown",
   "metadata": {},
   "source": [
    "### <font color='red'> 1. Widgets: </font>\n",
    "- button\n",
    "- canvas\n",
    "- checkbutton\n",
    "- combobox\n",
    "- entry\n",
    "- frame\n",
    "- label\n",
    "- labelframe\n",
    "- listbox\n",
    "- menu\n",
    "- menubutton\n",
    "- message\n",
    "- etc."
   ]
  },
  {
   "cell_type": "markdown",
   "metadata": {},
   "source": [
    "### Tkinter: Widgets: Label\n",
    "\n",
    "#### W = Label(master,options)   "
   ]
  },
  {
   "cell_type": "code",
   "execution_count": 65,
   "metadata": {},
   "outputs": [],
   "source": [
    "window = tk.Tk()\n",
    "window.title(\"GUI\")\n",
    "label = tk.Label(window,text=\"Hello\").pack()\n",
    "window.mainloop()"
   ]
  },
  {
   "cell_type": "code",
   "execution_count": 66,
   "metadata": {},
   "outputs": [],
   "source": [
    "window = tk.Tk()\n",
    "window.title(\"GUI\")\n",
    "label = tk.Label(window,text=\"Hello\", font=(\"Arial Bold\",50)).pack()\n",
    "window.mainloop()"
   ]
  },
  {
   "cell_type": "code",
   "execution_count": 69,
   "metadata": {},
   "outputs": [],
   "source": [
    "window = tk.Tk()\n",
    "\n",
    "w = tk.Label(window,\n",
    "         fg='white',\n",
    "         bg='black',\n",
    "         text=\"AI & ML\",\n",
    "         font=(\"Helvetica\", 16)\n",
    ").pack()\n",
    "\n",
    "window.mainloop()"
   ]
  },
  {
   "cell_type": "markdown",
   "metadata": {},
   "source": [
    "### Tkinter : Widgets: Buttons\n",
    "\n",
    "#### W = Button(master, options)   "
   ]
  },
  {
   "cell_type": "code",
   "execution_count": 70,
   "metadata": {},
   "outputs": [
    {
     "name": "stdout",
     "output_type": "stream",
     "text": [
      "Start Button Work\n",
      "Stop Button Wrok\n",
      "Stop Button Wrok\n",
      "Start Button Work\n",
      "Stop Button Wrok\n",
      "Start Button Work\n",
      "Stop Button Wrok\n",
      "Start Button Work\n",
      "Stop Button Wrok\n",
      "Start Button Work\n",
      "Stop Button Wrok\n",
      "Start Button Work\n"
     ]
    }
   ],
   "source": [
    "root = tk.Tk()\n",
    "\n",
    "def start_button():\n",
    "    print(\"Start Button Work\")\n",
    "    \n",
    "    \n",
    "def stop_button():\n",
    "    print(\"Stop Button Wrok\")\n",
    "\n",
    "button_start = tk.Button(root,\n",
    "                      text=\"start\",\n",
    "                      width=15,\n",
    "                      command=start_button).pack()\n",
    "\n",
    "button_stop = tk.Button(root,\n",
    "                     text=\"stop\",\n",
    "                     width=15,\n",
    "                     command=stop_button).pack()\n",
    "\n",
    "root.mainloop()"
   ]
  },
  {
   "cell_type": "markdown",
   "metadata": {},
   "source": [
    "### Tkinter : Widgets: Radio Button\n",
    "\n",
    "#### W = Radiobutton(master, options)   \n",
    "\n",
    "- Radio Button, sometime called option button, which allow user to choose one of predefine set of options.\n",
    "- Radio button can contain text or images\n",
    "- The button can only display text in single font\n",
    "- A python fuction or method can be associated with radio button. That fuction or method will be called as you press this radio button"
   ]
  },
  {
   "cell_type": "code",
   "execution_count": 71,
   "metadata": {},
   "outputs": [],
   "source": [
    "root = tk.Tk()\n",
    "root.title(\"Radio Button\")\n",
    "\n",
    "tk.Label(root,\n",
    "     text=\"Select True or False\"\n",
    "     ).pack()\n",
    "\n",
    "root.mainloop()"
   ]
  },
  {
   "cell_type": "code",
   "execution_count": 72,
   "metadata": {},
   "outputs": [
    {
     "name": "stdout",
     "output_type": "stream",
     "text": [
      "True\n",
      "False\n",
      "True\n",
      "False\n",
      "True\n",
      "False\n",
      "True\n",
      "False\n",
      "True\n",
      "False\n",
      "True\n",
      "False\n"
     ]
    }
   ],
   "source": [
    "root = tk.Tk()\n",
    "root.title(\"Radio Button\")\n",
    "\n",
    "tk.Label(root,\n",
    "     text=\"Select True or False\"\n",
    "     ).pack()\n",
    "\n",
    "\n",
    "data = tk.BooleanVar()\n",
    "\n",
    "def data_print():\n",
    "    print(data.get())\n",
    "    \n",
    "true_button = tk.Radiobutton(root,\n",
    "                          text = \"Ture\",\n",
    "                          variable=data,\n",
    "                          value= True,\n",
    "                          padx=20,\n",
    "                          pady=5,\n",
    "                          command = data_print\n",
    "                          ).pack()\n",
    "\n",
    "false_button = tk.Radiobutton(root,\n",
    "                           text = \"False\",\n",
    "                           variable=data,\n",
    "                           value= False,\n",
    "                           padx=20,\n",
    "                           pady=5,\n",
    "                           command = data_print\n",
    "                          ).pack()\n",
    "\n",
    "\n",
    "root.mainloop()"
   ]
  },
  {
   "cell_type": "markdown",
   "metadata": {},
   "source": [
    "### Tkinter: Widgets: Entry\n",
    "\n",
    "#### w = Entry(master, option=value)\n",
    "\n",
    "- Entry widget used for taking input form user in text\n",
    "- This widget allows the user to enter a single line of text\n",
    "- If user enter a string longer than the available display space of widget, the content will be scrolled using arrow keys\n",
    "- If you want to enter multiple line of text then you have to use text widget\n",
    "- An entry widget is also limited to single font"
   ]
  },
  {
   "cell_type": "code",
   "execution_count": 1,
   "metadata": {},
   "outputs": [
    {
     "ename": "NameError",
     "evalue": "name 'tk' is not defined",
     "output_type": "error",
     "traceback": [
      "\u001b[1;31m---------------------------------------------------------------------------\u001b[0m",
      "\u001b[1;31mNameError\u001b[0m                                 Traceback (most recent call last)",
      "\u001b[1;32m~\\AppData\\Local\\Temp/ipykernel_17808/4245600998.py\u001b[0m in \u001b[0;36m<module>\u001b[1;34m\u001b[0m\n\u001b[1;32m----> 1\u001b[1;33m \u001b[0mroot\u001b[0m \u001b[1;33m=\u001b[0m \u001b[0mtk\u001b[0m\u001b[1;33m.\u001b[0m\u001b[0mTk\u001b[0m\u001b[1;33m(\u001b[0m\u001b[1;33m)\u001b[0m\u001b[1;33m\u001b[0m\u001b[1;33m\u001b[0m\u001b[0m\n\u001b[0m\u001b[0;32m      2\u001b[0m \u001b[0mroot\u001b[0m\u001b[1;33m.\u001b[0m\u001b[0mtitle\u001b[0m\u001b[1;33m(\u001b[0m\u001b[1;34m\"Basic Entry Widget\"\u001b[0m\u001b[1;33m)\u001b[0m\u001b[1;33m\u001b[0m\u001b[1;33m\u001b[0m\u001b[0m\n\u001b[0;32m      3\u001b[0m \u001b[1;33m\u001b[0m\u001b[0m\n\u001b[0;32m      4\u001b[0m \u001b[0ment\u001b[0m \u001b[1;33m=\u001b[0m \u001b[0mtk\u001b[0m\u001b[1;33m.\u001b[0m\u001b[0mEntry\u001b[0m\u001b[1;33m(\u001b[0m\u001b[0mroot\u001b[0m\u001b[1;33m)\u001b[0m\u001b[1;33m\u001b[0m\u001b[1;33m\u001b[0m\u001b[0m\n\u001b[0;32m      5\u001b[0m \u001b[0ment\u001b[0m\u001b[1;33m.\u001b[0m\u001b[0mpack\u001b[0m\u001b[1;33m(\u001b[0m\u001b[1;33m)\u001b[0m\u001b[1;33m\u001b[0m\u001b[1;33m\u001b[0m\u001b[0m\n",
      "\u001b[1;31mNameError\u001b[0m: name 'tk' is not defined"
     ]
    }
   ],
   "source": [
    "root = tk.Tk()\n",
    "root.title(\"Basic Entry Widget\")\n",
    "\n",
    "ent = tk.Entry(root)\n",
    "ent.pack()\n",
    "\n",
    "def show_data():\n",
    "    print(ent.get())\n",
    "    \n",
    "tk.Button(root,\n",
    "      text=\"Show Data\",\n",
    "      command=show_data).pack()\n",
    "\n",
    "root.mainloop()"
   ]
  },
  {
   "cell_type": "markdown",
   "metadata": {},
   "source": [
    "### Tkinter : Widgets: Frames\n",
    "\n",
    "#### W = Frame(master, options)   "
   ]
  },
  {
   "cell_type": "code",
   "execution_count": 74,
   "metadata": {},
   "outputs": [],
   "source": [
    "win = tk.Tk()\n",
    "\n",
    "# add an orange frame\n",
    "frame1 = tk.Frame(master=win, width=100, height=100, bg=\"orange\")\n",
    "frame1.pack()\n",
    "\n",
    "# add blue frame\n",
    "frame2 = tk.Frame(master=win, width=50, height=50, bg=\"blue\")\n",
    "frame2.pack()\n",
    "\n",
    "# add green frame\n",
    "frame3 = tk.Frame(master=win, width=25, height=25, bg=\"green\")\n",
    "frame3.pack()\n",
    "\n",
    "window.mainloop()"
   ]
  },
  {
   "cell_type": "code",
   "execution_count": null,
   "metadata": {},
   "outputs": [],
   "source": [
    "from tkinter import *\n",
    "\n",
    "root = Tk()\n",
    "frame = Frame(root)\n",
    "frame.pack()\n",
    "bottomframe = Frame(root)\n",
    "bottomframe.pack( side = BOTTOM )\n",
    "redbutton = Button(frame, text = 'Red', fg ='red')\n",
    "redbutton.pack( side = LEFT)\n",
    "greenbutton = Button(frame, text = 'Brown', fg='brown')\n",
    "greenbutton.pack( side = LEFT )\n",
    "bluebutton = Button(frame, text ='Blue', fg ='blue')\n",
    "bluebutton.pack( side = LEFT )\n",
    "blackbutton = Button(bottomframe, text ='Black', fg ='black')\n",
    "blackbutton.pack( side = BOTTOM)\n",
    "root.mainloop()\n"
   ]
  },
  {
   "cell_type": "markdown",
   "metadata": {},
   "source": [
    "### Tkinter : Widgets: Canvas\n",
    "\n",
    "#### w = Canvas(master, option=value)"
   ]
  },
  {
   "cell_type": "code",
   "execution_count": 76,
   "metadata": {},
   "outputs": [],
   "source": [
    "from tkinter import *   \n",
    "  \n",
    "# window named top\n",
    "top = Tk()  \n",
    "# set height and width of window \n",
    "top.geometry(\"300x300\")  \n",
    "  \n",
    "#creating a simple canvas with canvas widget  \n",
    "cv = Canvas(top, bg = \"yellow\", height = \"300\").pack()  \n",
    "  \n",
    "\n",
    "  \n",
    "top.mainloop()"
   ]
  },
  {
   "cell_type": "code",
   "execution_count": 77,
   "metadata": {},
   "outputs": [],
   "source": [
    "import tkinter\n",
    "\n",
    "# init tk\n",
    "root = tkinter.Tk()\n",
    "\n",
    "# creating canvas\n",
    "mCanvas = tkinter.Canvas(root, bg=\"white\", height=300, width=300)\n",
    "\n",
    "# drawing two arcs\n",
    "coord = 10, 10, 300, 300\n",
    "arc1 = mCanvas.create_arc(coord, start=0, extent=150, fill=\"pink\")\n",
    "arc2 = mCanvas.create_arc(coord, start=150, extent=215, fill=\"blue\")\n",
    "\n",
    "# adding canvas to window and display it\n",
    "mCanvas.pack()\n",
    "root.mainloop()"
   ]
  },
  {
   "cell_type": "markdown",
   "metadata": {},
   "source": [
    "### Tkinter : Widgets: Listbox\n",
    "\n",
    "#### W = Listbox(master, options)   "
   ]
  },
  {
   "cell_type": "code",
   "execution_count": 81,
   "metadata": {},
   "outputs": [],
   "source": [
    "from tkinter import *\n",
    "\n",
    "top = Tk()\n",
    "\n",
    "top.geometry(\"200x250\")\n",
    "\n",
    "lbl = Label(top, text=\"List of Programming Languages\")\n",
    "\n",
    "listbox = Listbox(top)\n",
    "\n",
    "listbox.insert(1,\"Python\")\n",
    "\n",
    "listbox.insert(2, \"Java\")\n",
    "\n",
    "listbox.insert(3, \"C\")\n",
    "\n",
    "listbox.insert(4, \"C++\")\n",
    "\n",
    "\n",
    "lbl.pack()\n",
    "listbox.pack() \n",
    "top.mainloop()"
   ]
  },
  {
   "cell_type": "markdown",
   "metadata": {},
   "source": [
    "### Tkinter : Widgets: Text\n",
    "\n",
    "#### W = Text(master, options)   "
   ]
  },
  {
   "cell_type": "code",
   "execution_count": 82,
   "metadata": {},
   "outputs": [],
   "source": [
    "import tkinter as tk \n",
    "from tkinter import *\n",
    "\n",
    "win = Tk() \n",
    "\n",
    "#to specify size of window. \n",
    "win.geometry(\"250x170\") \n",
    "\n",
    "# To Create a text widget and specify size. \n",
    "T = Text(win, height = 6, width = 53) \n",
    "\n",
    "# TO Create label \n",
    "l = Label(win, text = \"Quote for the Day\") \n",
    "l.config(font =(\"Courier\", 14)) \n",
    "\n",
    "Quote = \"\"\"Success usually comes to those who are too busy to be looking for it\"\"\"\n",
    "\n",
    "\n",
    "# Create an Exit button. \n",
    "b2 = Button(win, text = \"Exit\", command = win.destroy) \n",
    "\n",
    "l.pack() \n",
    "T.pack() \n",
    "b2.pack() \n",
    "\n",
    "# Insert the Quote \n",
    "T.insert(tk.END, Quote) \n",
    "\n",
    "tk.mainloop() "
   ]
  },
  {
   "cell_type": "markdown",
   "metadata": {},
   "source": [
    "## <font color='red'> 2. Tkinter : Geometry managers:  </font>\n",
    "In order to organize or arrange or place all the widgets in the parent window, Tkinter provides us the geometric configuration of the widgets. The GUI Application Layout is mainly controlled by Geometric Managers of Tkinter.\n",
    "- place : which positions widgets at absolute locations\n",
    "- grid : which arranges widgets in a grid\n",
    "- pack : which packs widgets into a cavity"
   ]
  },
  {
   "cell_type": "code",
   "execution_count": 84,
   "metadata": {},
   "outputs": [],
   "source": [
    "window = tk.Tk()\n",
    "window.geometry(\"400x250\") \n",
    "window.title(\"GUI\")\n",
    "label = tk.Label(window,text=\"Hello\")\n",
    "label.pack()\n",
    "window.mainloop()\n"
   ]
  },
  {
   "cell_type": "markdown",
   "metadata": {},
   "source": [
    "### Tkinter : Geometry Manager : Pack\n",
    "- Firstly this algorithm will compute a rectangular area known as a Parcel which is tall (or wide) enough to hold the widget and then it will fill the remaining width (or height) in the window with blank space.\n",
    "\n",
    "- It will center the widget until any different location is specified.\n",
    "\n",
    "#### widget.pack(options)\n",
    "\n",
    "The possible options as a parameter to this method are given below:\n",
    "\n",
    "- fill : \n",
    "The default value of this option is set to NONE. Also, we can set it to X or Y in order to determine whether the widget contains any extra space.\n",
    "\n",
    "- side :\n",
    "This option specifies which side to pack the widget against. If you want to pack widgets vertically, use TOP which is the default value. If you want to pack widgets horizontally, use LEFT.\n",
    "\n",
    "- expand :\n",
    "This option is used to specify whether the widgets should be expanded to fill any extra space in the geometry master or not. Its default value is false. If it is false then the widget is not expanded otherwise widget expands to fill extra space.\n"
   ]
  },
  {
   "cell_type": "code",
   "execution_count": 85,
   "metadata": {},
   "outputs": [],
   "source": [
    "win = tk.Tk()\n",
    "\n",
    "# add an orange frame\n",
    "frame1 = tk.Frame(master=win, width=50, height=50, bg=\"orange\")\n",
    "frame1.pack()\n",
    "window.mainloop()"
   ]
  },
  {
   "cell_type": "code",
   "execution_count": 86,
   "metadata": {},
   "outputs": [],
   "source": [
    "win= tk.Tk()\n",
    "\n",
    "frame1 = tk.Frame(master=win, height=80, bg=\"red\")\n",
    "# adding the fill argument with \n",
    "# horizontal fill value\n",
    "frame1.pack(fill=tk.X)\n",
    "window.mainloop()\n"
   ]
  },
  {
   "cell_type": "code",
   "execution_count": 87,
   "metadata": {},
   "outputs": [],
   "source": [
    "win = tk.Tk()\n",
    "\n",
    "frame1 = tk.Frame(master=win, width=200, height=100, bg=\"Yellow\")\n",
    "# setting fill, side and expand\n",
    "frame1.pack(fill=tk.BOTH, side=tk.LEFT, expand=True)\n",
    "window.mainloop()"
   ]
  },
  {
   "cell_type": "markdown",
   "metadata": {},
   "source": [
    "### Tkinter : Geometry Manager : Grid\n",
    "\n",
    "- The most used geometry manager is grid() because it provides all the power of pack() function but in an easier and maintainable way.\n",
    "\n",
    "- The grid() geometry manager is mainly used to split either a window or frame into rows and columns.\n",
    "\n",
    "- You can easily specify the location of a widget just by calling grid() function and passing the row and column indices to the row and column keyword arguments, respectively.\n",
    "\n",
    "#### widget.grid(options)  \n",
    "\n",
    "The possible options as a parameter to this method are given below:\n",
    "\n",
    "- Column :\n",
    "\n",
    "This option specifies the column number in which the widget is to be placed. The index of leftmost column is 0.\n",
    "\n",
    "- Row :\n",
    "\n",
    "This option specifies the row number in which the widget is to be placed. The topmost row is represented by 0.\n",
    "\n",
    "- Columnspan :\n",
    "\n",
    "This option specifies the width of the widget. It mainly represents the number of columns up to which, the column is expanded.\n",
    "\n",
    "- Rowspan :\n",
    "\n",
    "This option specifies the height of the widget. It mainly represents the number of rows up to which, the row is expanded.\n",
    "\n",
    "- padx, pady :\n",
    "\n",
    "This option mainly represents the number of pixels of padding to be added to the widget just outside the widget's border.\n",
    "\n",
    "- ipadx, ipady :\n",
    "\n",
    "This option is mainly used to represents the number of pixels of padding to be added to the widget inside the widget's border.\n",
    "\n",
    "- Sticky :\n",
    "\n",
    "If any cell is larger than a widget, then sticky is mainly used to specify the position of the widget inside the cell. It is basically concatenation of the sticky letters which represents the position of the widget. It may be N, E, W, S, NE, NW, NS, EW, ES."
   ]
  },
  {
   "cell_type": "code",
   "execution_count": null,
   "metadata": {},
   "outputs": [],
   "source": [
    "window = Tk()\n",
    "cse1 = \"AI & ML\"\n",
    "cse2 = \"Cyber Security\"\n",
    "one = Label(window,\n",
    "         fg='white',\n",
    "         bg='black',\n",
    "         text=cse1,\n",
    "         font=(\"Helvetica\", 16)\n",
    ")\n",
    "\n",
    "two = Label(window,\n",
    "         fg='white',\n",
    "         bg='black',\n",
    "         text=cse2,\n",
    "         font=(\"Helvetica\", 16)\n",
    ")\n",
    "\n",
    "\n",
    "one.grid(row=5, column=4)\n",
    "two.grid(row=5, column=5)\n",
    "\n",
    "root.mainloop()"
   ]
  },
  {
   "cell_type": "code",
   "execution_count": 88,
   "metadata": {},
   "outputs": [],
   "source": [
    "window = Tk()\n",
    "cse1 = \"AI & ML\"\n",
    "cse2 = \"Cyber Security\"\n",
    "one = Label(window,\n",
    "         fg='white',\n",
    "         bg='black',\n",
    "         text=cse1,\n",
    "         font=(\"Helvetica\", 16)\n",
    ")\n",
    "\n",
    "two = Label(window,\n",
    "         fg='white',\n",
    "         bg='black',\n",
    "         text=cse2,\n",
    "         font=(\"Helvetica\", 16)\n",
    ")\n",
    "\n",
    "\n",
    "one.grid(row=5, column=4,padx=5, pady=5)\n",
    "two.grid(row=5, column=5,padx=5, pady=5)\n",
    "\n",
    "root.mainloop()"
   ]
  },
  {
   "cell_type": "code",
   "execution_count": null,
   "metadata": {},
   "outputs": [],
   "source": [
    "win = tk.Tk()\n",
    "\n",
    "# add an orange frame\n",
    "frame1 = tk.Frame(master=win, width=100, height=100, bg=\"orange\")\n",
    "frame1.grid(row=5, column=0,padx=5, pady=5)\n",
    "\n",
    "\n",
    "# add blue frame\n",
    "frame2 = tk.Frame(master=win, width=50, height=50, bg=\"blue\")\n",
    "frame2.grid(row=5, column=1,padx=5, pady=5)\n",
    "\n",
    "\n",
    "# add green frame\n",
    "frame3 = tk.Frame(master=win, width=25, height=25, bg=\"green\")\n",
    "frame3.grid(row=5, column=2,padx=5, pady=5)\n",
    "\n",
    "\n",
    "window.mainloop()"
   ]
  },
  {
   "cell_type": "code",
   "execution_count": 89,
   "metadata": {},
   "outputs": [],
   "source": [
    "import tkinter as tk\n",
    "\n",
    "win = tk.Tk()\n",
    "\n",
    "for i in range(5):\n",
    "    for j in range(3):\n",
    "        frame = tk.Frame(\n",
    "            master = win,\n",
    "            relief = tk.RAISED,\n",
    "            borderwidth = 1\n",
    "        )\n",
    "        frame.grid(row=i, column=j)\n",
    "        label = tk.Label(master=frame, text=f\"Row {i}\\nColumn {j}\")\n",
    "        label.pack()\n",
    "\n",
    "win.mainloop()"
   ]
  },
  {
   "cell_type": "markdown",
   "metadata": {},
   "source": [
    "### Tkinter : Geometry Manager : Place\n",
    "\n",
    "- The place() Geometry Manager organizes the widgets to place them in a specific position as directed by the programmer.\n",
    "\n",
    "- This method basically organizes the widget in accordance with its x and y coordinates. Both x and y coordinates are in pixels.\n",
    "\n",
    "- Thus the origin (where x and y are both 0) is the top-left corner of the Frame or the window.\n",
    "\n",
    "#### widget.place(options)\n",
    "\n",
    "The possible options as a parameter to this method are given below:\n",
    "\n",
    "- x, y :\n",
    "\n",
    "This option indicates the horizontal and vertical offset in the pixels.\n",
    "\n",
    "- height, width :\n",
    "\n",
    "This option indicates the height and weight of the widget in the pixels."
   ]
  },
  {
   "cell_type": "code",
   "execution_count": 90,
   "metadata": {},
   "outputs": [],
   "source": [
    "top = Tk()  \n",
    " \n",
    "Username = Label(top, text = \"Username\").place(x = 30,y = 50)  \n",
    "email = Label(top, text = \"Email\").place(x = 30, y = 90)  \n",
    "password = Label(top, text = \"Password\").place(x = 30, y = 130)  \n",
    "\n",
    "top.mainloop()  "
   ]
  },
  {
   "cell_type": "markdown",
   "metadata": {},
   "source": [
    "## <font color='red'> 3. Tkinter : Windows: </font>\n",
    "- tk_chooseColorpops : up a dialog box for the user to select a color.\n",
    "- tk_chooseDirectory : pops up a dialog box for the user to select a directory.\n",
    "- tk_dialog : creates a modal dialog and waits for a response.\n",
    "- tk_getOpenFile : pops up a dialog box for the user to select a file to open.\n",
    "- tk_getSaveFile : pops up a dialog box for the user to select a file to save.\n",
    "- tk_messageBox : pops up a message window and waits for a user response.\n",
    "- tk_popup : posts a popup menu.\n",
    "- toplevel : creates and manipulates toplevel widgets."
   ]
  },
  {
   "cell_type": "code",
   "execution_count": 91,
   "metadata": {},
   "outputs": [],
   "source": [
    "import tkinter\n",
    "from tkinter import messagebox\n",
    "\n",
    "top = tkinter.Tk()\n",
    "\n",
    "def helloCallBack():\n",
    "    messagebox.showinfo( \"Hello Python\",\"Hello World\")\n",
    "\n",
    "B = tkinter.Button(top, text =\"Hello\", command = helloCallBack).pack()\n",
    "\n",
    "\n",
    "top.mainloop()"
   ]
  },
  {
   "cell_type": "code",
   "execution_count": 92,
   "metadata": {},
   "outputs": [],
   "source": [
    "import tkinter\n",
    "from tkinter import messagebox\n",
    "\n",
    "top = tkinter.Tk()\n",
    "\n",
    "def helloCallBack():\n",
    "    messagebox.showinfo( \"Hello Python\",\"Hello World\")\n",
    "\n",
    "B = tkinter.Button(top, text =\"Hello\", bg=\"blue\", fg=\"red\", command = helloCallBack).pack()\n",
    "\n",
    "\n",
    "top.mainloop()"
   ]
  },
  {
   "cell_type": "markdown",
   "metadata": {},
   "source": [
    "### <font color='red'> Task-1: Making entry auto form </font>\n",
    "- Make a form having fields 'First Name', 'Last Name', 'Country', 'State', 'City', 'Mobile Number'; which will take data from user. Add two button to show user entred data and quite form."
   ]
  },
  {
   "cell_type": "code",
   "execution_count": 93,
   "metadata": {},
   "outputs": [
    {
     "name": "stdout",
     "output_type": "stream",
     "text": [
      "First Name:samir\n",
      "Last Name:ajani\n",
      "Country:india\n",
      "State:MH\n",
      "City:nagpur\n",
      "Mobile Number:777\n",
      "First Name:samir\n",
      "Last Name:ajani\n",
      "Country:india\n",
      "State:MH\n",
      "City:nagpur\n",
      "Mobile Number:777\n",
      "First Name:samir\n",
      "Last Name:ajani\n",
      "Country:india\n",
      "State:MH\n",
      "City:nagpur\n",
      "Mobile Number:777\n",
      "First Name:samir\n",
      "Last Name:ajani\n",
      "Country:india\n",
      "State:MH\n",
      "City:nagpur\n",
      "Mobile Number:777\n",
      "First Name:samir\n",
      "Last Name:ajani\n",
      "Country:india\n",
      "State:MH\n",
      "City:nagpur\n",
      "Mobile Number:777\n"
     ]
    }
   ],
   "source": [
    "from tkinter import *\n",
    "\n",
    "fields = 'First Name', 'Last Name', 'Country', 'State', 'City', 'Mobile Number'\n",
    "\n",
    "\n",
    "def fetch(entries):\n",
    "    for entry in entries:\n",
    "        field = entry[0]\n",
    "        text = entry[1].get()\n",
    "        print(\"%s:%s\"%(field, text))\n",
    "\n",
    "def makeform(root, fields):\n",
    "    entries = []\n",
    "    for field in fields:\n",
    "        row = Frame(root)\n",
    "        lab = Label(row, width=15, text=field, anchor='w')\n",
    "        ent = Entry(row)\n",
    "        row.pack(side=TOP, fill=X, padx=5, pady=5)\n",
    "        lab.pack(side=LEFT)\n",
    "        ent.pack(side=RIGHT, expand=YES, fill=X)\n",
    "        entries.append((field, ent))\n",
    "    return entries\n",
    "\n",
    "if __name__ == '__main__':\n",
    "    root = Tk()\n",
    "    ents = makeform(root, fields)\n",
    "    \n",
    "    b_show = Button(root,\n",
    "                   text='Show',\n",
    "                   command=(lambda e=ents: fetch(ents))\n",
    "                   )\n",
    "    b_stop = Button(root,\n",
    "                   text='Quite',\n",
    "                   command=root.destroy)\n",
    "\n",
    "    b_show.pack(side=LEFT, padx=5, pady=5)\n",
    "    b_stop.pack(side=LEFT, padx=5, pady=5)\n",
    "\n",
    "    root.mainloop()"
   ]
  },
  {
   "cell_type": "markdown",
   "metadata": {},
   "source": [
    "### <font color='red'> Task-2 Digital Watch display system time </font>"
   ]
  },
  {
   "cell_type": "code",
   "execution_count": null,
   "metadata": {},
   "outputs": [],
   "source": [
    "from tkinter import *\n",
    "import time\n",
    "root = Tk()\n",
    "\n",
    "time1 = ''\n",
    "clock = Label(root, font=('times', 30, 'bold'), bg='blue')\n",
    "\n",
    "clock.pack(fill=BOTH, expand=1)\n",
    "\n",
    "def tick():\n",
    "    global time1\n",
    "    \n",
    "    # get the current local time from the PC\n",
    "    time2 = time.strftime('%H:%M:%S')\n",
    "\n",
    "    # if time string has changed, update it\n",
    "    if time2 != time1:\n",
    "        time1 = time2\n",
    "        clock.config(text=time2)\n",
    "    \n",
    "    # calls itself every 200 milliseconds\n",
    "    # to update the time display as needed\n",
    "    clock.after(200, tick)\n",
    "\n",
    "tick()\n",
    "root.mainloop()"
   ]
  },
  {
   "cell_type": "markdown",
   "metadata": {},
   "source": [
    "## <font color='red'> Task - 3 : Basic Calculator </font>"
   ]
  },
  {
   "cell_type": "code",
   "execution_count": 94,
   "metadata": {},
   "outputs": [],
   "source": [
    "from tkinter import *\n",
    "\n",
    "win = Tk() # This is to create a basic window\n",
    "win.geometry(\"312x324\")  # this is for the size of the window \n",
    "win.resizable(0, 0)  # this is to prevent from resizing the window\n",
    "win.title(\"Calculator\")\n",
    "\n",
    "###################Starting with functions ####################\n",
    "# 'btn_click' function : \n",
    "# This Function continuously updates the \n",
    "# input field whenever you enter a number\n",
    "\n",
    "def btn_click(item):\n",
    "    global expression\n",
    "    expression = expression + str(item)\n",
    "    input_text.set(expression)\n",
    "\n",
    "# 'bt_clear' function :This is used to clear \n",
    "# the input field\n",
    "\n",
    "def bt_clear(): \n",
    "    global expression \n",
    "    expression = \"\" \n",
    "    input_text.set(\"\")\n",
    " \n",
    "# 'bt_equal':This method calculates the expression \n",
    "# present in input field\n",
    " \n",
    "def bt_equal():\n",
    "    global expression\n",
    "    result = str(eval(expression)) # 'eval':This function is used to evaluates the string expression directly\n",
    "    input_text.set(result)\n",
    "    expression = \"\"\n",
    " \n",
    "expression = \"\"\n",
    " \n",
    "# 'StringVar()' :It is used to get the instance of input field\n",
    " \n",
    "input_text = StringVar()\n",
    " \n",
    "# Let us creating a frame for the input field\n",
    " \n",
    "input_frame = Frame(win, width=312, height=50, bd=0, highlightbackground=\"black\", highlightcolor=\"black\", highlightthickness=2)\n",
    " \n",
    "input_frame.pack(side=TOP)\n",
    " \n",
    "#Let us create a input field inside the 'Frame'\n",
    " \n",
    "input_field = Entry(input_frame, font=('arial', 18, 'bold'), textvariable=input_text, width=50, bg=\"#eee\", bd=0, justify=RIGHT)\n",
    " \n",
    "input_field.grid(row=0, column=0)\n",
    " \n",
    "input_field.pack(ipady=10) # 'ipady' is internal padding to increase the height of input field\n",
    " \n",
    "#Let us creating another 'Frame' for the button below the 'input_frame'\n",
    " \n",
    "btns_frame = Frame(win, width=312, height=272.5, bg=\"grey\")\n",
    " \n",
    "btns_frame.pack()\n",
    " \n",
    "# first row\n",
    " \n",
    "clear = Button(btns_frame, text = \"C\", fg = \"black\", width = 32, height = 3, bd = 0, bg = \"#eee\", cursor = \"hand2\", command = lambda: bt_clear()).grid(row = 0, column = 0, columnspan = 3, padx = 1, pady = 1)\n",
    " \n",
    "divide = Button(btns_frame, text = \"/\", fg = \"black\", width = 10, height = 3, bd = 0, bg = \"#eee\", cursor = \"hand2\", command = lambda: btn_click(\"/\")).grid(row = 0, column = 3, padx = 1, pady = 1)\n",
    " \n",
    "# second row\n",
    " \n",
    "seven = Button(btns_frame, text = \"7\", fg = \"black\", width = 10, height = 3, bd = 0, bg = \"#fff\", cursor = \"hand2\", command = lambda: btn_click(7)).grid(row = 1, column = 0, padx = 1, pady = 1)\n",
    " \n",
    "eight = Button(btns_frame, text = \"8\", fg = \"black\", width = 10, height = 3, bd = 0, bg = \"#fff\", cursor = \"hand2\", command = lambda: btn_click(8)).grid(row = 1, column = 1, padx = 1, pady = 1)\n",
    " \n",
    "nine = Button(btns_frame, text = \"9\", fg = \"black\", width = 10, height = 3, bd = 0, bg = \"#fff\", cursor = \"hand2\", command = lambda: btn_click(9)).grid(row = 1, column = 2, padx = 1, pady = 1)\n",
    " \n",
    "multiply = Button(btns_frame, text = \"*\", fg = \"black\", width = 10, height = 3, bd = 0, bg = \"#eee\", cursor = \"hand2\", command = lambda: btn_click(\"*\")).grid(row = 1, column = 3, padx = 1, pady = 1)\n",
    " \n",
    "# third row\n",
    " \n",
    "four = Button(btns_frame, text = \"4\", fg = \"black\", width = 10, height = 3, bd = 0, bg = \"#fff\", cursor = \"hand2\", command = lambda: btn_click(4)).grid(row = 2, column = 0, padx = 1, pady = 1)\n",
    " \n",
    "five = Button(btns_frame, text = \"5\", fg = \"black\", width = 10, height = 3, bd = 0, bg = \"#fff\", cursor = \"hand2\", command = lambda: btn_click(5)).grid(row = 2, column = 1, padx = 1, pady = 1)\n",
    " \n",
    "six = Button(btns_frame, text = \"6\", fg = \"black\", width = 10, height = 3, bd = 0, bg = \"#fff\", cursor = \"hand2\", command = lambda: btn_click(6)).grid(row = 2, column = 2, padx = 1, pady = 1)\n",
    " \n",
    "minus = Button(btns_frame, text = \"-\", fg = \"black\", width = 10, height = 3, bd = 0, bg = \"#eee\", cursor = \"hand2\", command = lambda: btn_click(\"-\")).grid(row = 2, column = 3, padx = 1, pady = 1)\n",
    " \n",
    "# fourth row\n",
    " \n",
    "one = Button(btns_frame, text = \"1\", fg = \"black\", width = 10, height = 3, bd = 0, bg = \"#fff\", cursor = \"hand2\", command = lambda: btn_click(1)).grid(row = 3, column = 0, padx = 1, pady = 1)\n",
    " \n",
    "two = Button(btns_frame, text = \"2\", fg = \"black\", width = 10, height = 3, bd = 0, bg = \"#fff\", cursor = \"hand2\", command = lambda: btn_click(2)).grid(row = 3, column = 1, padx = 1, pady = 1)\n",
    " \n",
    "three = Button(btns_frame, text = \"3\", fg = \"black\", width = 10, height = 3, bd = 0, bg = \"#fff\", cursor = \"hand2\", command = lambda: btn_click(3)).grid(row = 3, column = 2, padx = 1, pady = 1)\n",
    " \n",
    "plus = Button(btns_frame, text = \"+\", fg = \"black\", width = 10, height = 3, bd = 0, bg = \"#eee\", cursor = \"hand2\", command = lambda: btn_click(\"+\")).grid(row = 3, column = 3, padx = 1, pady = 1)\n",
    " \n",
    "# fourth row\n",
    " \n",
    "zero = Button(btns_frame, text = \"0\", fg = \"black\", width = 21, height = 3, bd = 0, bg = \"#fff\", cursor = \"hand2\", command = lambda: btn_click(0)).grid(row = 4, column = 0, columnspan = 2, padx = 1, pady = 1)\n",
    " \n",
    "point = Button(btns_frame, text = \".\", fg = \"black\", width = 10, height = 3, bd = 0, bg = \"#eee\", cursor = \"hand2\", command = lambda: btn_click(\".\")).grid(row = 4, column = 2, padx = 1, pady = 1)\n",
    " \n",
    "equals = Button(btns_frame, text = \"=\", fg = \"black\", width = 10, height = 3, bd = 0, bg = \"#eee\", cursor = \"hand2\", command = lambda: bt_equal()).grid(row = 4, column = 3, padx = 1, pady = 1)\n",
    " \n",
    "win.mainloop()\n"
   ]
  },
  {
   "cell_type": "code",
   "execution_count": null,
   "metadata": {},
   "outputs": [],
   "source": []
  }
 ],
 "metadata": {
  "kernelspec": {
   "display_name": "Python 3",
   "language": "python",
   "name": "python3"
  },
  "language_info": {
   "codemirror_mode": {
    "name": "ipython",
    "version": 3
   },
   "file_extension": ".py",
   "mimetype": "text/x-python",
   "name": "python",
   "nbconvert_exporter": "python",
   "pygments_lexer": "ipython3",
   "version": "3.9.7"
  }
 },
 "nbformat": 4,
 "nbformat_minor": 2
}
