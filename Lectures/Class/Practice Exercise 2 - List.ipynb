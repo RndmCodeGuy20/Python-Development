{
 "cells": [
  {
   "cell_type": "markdown",
   "metadata": {},
   "source": [
    "## Practice Exercise 2 : List"
   ]
  },
  {
   "cell_type": "code",
   "execution_count": 2,
   "metadata": {},
   "outputs": [],
   "source": [
    "# List of order ID's which are processed \n",
    "processed_orders = [1152, 1154, 1155, 1156, 1157, 1160, 1161, 1162, 1166, 1169, 1170, 1172, 1176, 1050, 1178, 1051, 1052, 1054, 1058, 1060, 1061, 1062, 1065, 1066, 1067, 1068, 1069, 1076, 1077, 1080, 1081, 1083, 1091, 1085, 1088, 1089, 1131, 1092, 1094, 1095, 1099, 1102, 1103, 1104, 1106, 1107, 1108, 1109, 1111, 1117, 1119, 1121, 1150, 1128, 1129, 1136, 1137, 1139, 1140, 1141, 1144, 1148, 1124]\n",
    "\n",
    "# List of order ID's which are returned\n",
    "returned_orders = [1153, 1158, 1159, 1163, 1164, 1165, 1167, 1168, 1171, 1173, 1174, 1175, 1177, 1053, 1055, 1056, 1057, 1059, 1063, 1064, 1070, 1071, 1072, 1073, 1074, 1075, 1078, 1079, 1082, 1084, 1086, 1087, 1090, 1093, 1096, 1097, 1098, 1100, 1101, 1105, 1110, 1112, 1113, 1114, 1115, 1116, 1118, 1120, 1122, 1123, 1125, 1126, 1127, 1130, 1132, 1133, 1134, 1135, 1138, 1142, 1143, 1145, 1146, 1147, 1149, 1151]\n",
    "\n",
    "# Consider the information available in the above two lists and answer the question given below"
   ]
  },
  {
   "cell_type": "markdown",
   "metadata": {},
   "source": [
    "#### Count the total number of orders [ Orders include both processed and returned orders]\n",
    "\n",
    "- 63\n",
    "- 66\n",
    "- 126\n",
    "- 129"
   ]
  },
  {
   "cell_type": "code",
   "execution_count": 3,
   "metadata": {},
   "outputs": [
    {
     "name": "stdout",
     "output_type": "stream",
     "text": [
      "129\n"
     ]
    }
   ],
   "source": [
    "totalNumOfOrders = len(processed_orders) + len(returned_orders)\n",
    "\n",
    "print(totalNumOfOrders)\n",
    "\n",
    "#* Option D is correct"
   ]
  },
  {
   "cell_type": "markdown",
   "metadata": {},
   "source": [
    "#### In the total orders, identify the 50th order [ Note: Assume the order ID’s are being generated in a consecutive manner]\n",
    "\n",
    "- 1152\n",
    "- 1099\n",
    "- 1154\n",
    "- 1100\n"
   ]
  },
  {
   "cell_type": "code",
   "execution_count": 4,
   "metadata": {},
   "outputs": [
    {
     "name": "stdout",
     "output_type": "stream",
     "text": [
      "1099\n"
     ]
    }
   ],
   "source": [
    "# Type your code here\n",
    "totOrders = []\n",
    "set(totOrders)\n",
    "totOrders.extend(processed_orders)\n",
    "totOrders.extend(returned_orders)\n",
    "totOrders.sort()\n",
    "print(totOrders[49])\n",
    "\n",
    "#* Option B"
   ]
  },
  {
   "cell_type": "markdown",
   "metadata": {},
   "source": [
    "#### Is 50th order a returned order or processed order?\n",
    "\n",
    "- Returned Order\n",
    "- Processed Order\n"
   ]
  },
  {
   "cell_type": "code",
   "execution_count": 5,
   "metadata": {},
   "outputs": [
    {
     "name": "stdout",
     "output_type": "stream",
     "text": [
      "Processed Order\n"
     ]
    }
   ],
   "source": [
    "for i in range(0, len(processed_orders)):\n",
    "    if (processed_orders[i] == totOrders[49]):\n",
    "        print(\"Processed Order\")\n",
    "    elif (returned_orders[i] == totOrders[49]):\n",
    "        print(\"Returned Order\")\n",
    "\n",
    "#* Option A is correct"
   ]
  },
  {
   "cell_type": "markdown",
   "metadata": {},
   "source": [
    "#### What is the last processed order ID ? [ Note: Assume the order ID’s are being generated in a consecutive manner]\n",
    "\n",
    "- 1050\n",
    "- 1178\n",
    "- 1124\n",
    "- 1177\n",
    "\n"
   ]
  },
  {
   "cell_type": "code",
   "execution_count": 6,
   "metadata": {},
   "outputs": [
    {
     "data": {
      "text/plain": [
       "1178"
      ]
     },
     "execution_count": 6,
     "metadata": {},
     "output_type": "execute_result"
    }
   ],
   "source": [
    "totOrders[-1]\n",
    "\n",
    "#* Option B is correct"
   ]
  },
  {
   "cell_type": "markdown",
   "metadata": {},
   "source": [
    "#### Identify the first 4 orders which are processed?\n",
    "\n",
    "- 1152, 1154, 1155, 1156\n",
    "- 1051, 1152, 1153, 1154\n",
    "- 1050, 1051, 1052, 1054\n",
    "- 1050, 1051, 1052, 1053"
   ]
  },
  {
   "cell_type": "code",
   "execution_count": 13,
   "metadata": {},
   "outputs": [
    {
     "name": "stdout",
     "output_type": "stream",
     "text": [
      "1050\n",
      "1051\n",
      "1052\n",
      "1054\n"
     ]
    },
    {
     "data": {
      "text/plain": [
       "[1050, 1051, 1052, 1054]"
      ]
     },
     "execution_count": 13,
     "metadata": {},
     "output_type": "execute_result"
    }
   ],
   "source": [
    "processed_orders.sort()\n",
    "\n",
    "for i in range(0,4):\n",
    "    print(processed_orders[i])\n",
    "\n",
    "processed_orders[0:4]\n"
   ]
  },
  {
   "cell_type": "code",
   "execution_count": null,
   "metadata": {
    "collapsed": true
   },
   "outputs": [],
   "source": []
  }
 ],
 "metadata": {
  "kernelspec": {
   "display_name": "Python 3",
   "language": "python",
   "name": "python3"
  },
  "language_info": {
   "codemirror_mode": {
    "name": "ipython",
    "version": 3
   },
   "file_extension": ".py",
   "mimetype": "text/x-python",
   "name": "python",
   "nbconvert_exporter": "python",
   "pygments_lexer": "ipython3",
   "version": "3.9.7"
  }
 },
 "nbformat": 4,
 "nbformat_minor": 2
}
