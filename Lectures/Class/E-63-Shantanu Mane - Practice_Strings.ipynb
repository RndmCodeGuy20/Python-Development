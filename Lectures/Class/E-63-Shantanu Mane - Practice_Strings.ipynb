{
 "cells": [
  {
   "cell_type": "markdown",
   "metadata": {},
   "source": [
    "String in Python\n",
    "A string is a sequence of characters. A character is simply a symbol. \n",
    "\n",
    "String is a collection of alphabets, words or other characters. It is one of the primitive data structures and are the building blocks for data manipulation. Python has a built-in string class named str. \n",
    "\n",
    "Python strings are \"immutable\" which means they cannot be changed after they are created. For string manipulation, we create new strings as we go to represent computed values because of their immutable property."
   ]
  },
  {
   "cell_type": "code",
   "execution_count": 2,
   "metadata": {},
   "outputs": [],
   "source": [
    "# defining strings in Python using single and double quotes and printing them.\n",
    "\n",
    "\n",
    "\n",
    "\n"
   ]
  },
  {
   "cell_type": "code",
   "execution_count": 1,
   "metadata": {},
   "outputs": [
    {
     "name": "stdout",
     "output_type": "stream",
     "text": [
      ".devcontainer\n",
      ".devcontainer\n"
     ]
    }
   ],
   "source": [
    "# defining string containing a paragraph and print it. Place a word inside single quotes and one word in double quotes\n",
    "\n",
    "\n",
    "print('.devcontainer')\n",
    "print(\".devcontainer\")\n",
    "\n",
    "\n"
   ]
  },
  {
   "cell_type": "code",
   "execution_count": 5,
   "metadata": {},
   "outputs": [],
   "source": [
    "# triple quotes string can extend multiple lines, write and print\n",
    "\n",
    "\n",
    "\n"
   ]
  },
  {
   "cell_type": "code",
   "execution_count": 13,
   "metadata": {},
   "outputs": [
    {
     "name": "stdout",
     "output_type": "stream",
     "text": [
      "str =  Ramdeobaba\n",
      "first character =  R\n",
      "last character =  a\n",
      "2nd to 5th character =  amde\n",
      "6th to 2nd last character =  obab\n"
     ]
    }
   ],
   "source": [
    "#Accessing string characters in Python\n",
    "str = 'Ramdeobaba'\n",
    "# print string as it is\n",
    "print('str = ',str)\n",
    "\n",
    "#print the first character\n",
    "print('first character = ',str[0])\n",
    "\n",
    "#print the last character\n",
    "print('last character = ', str[-1])\n",
    "\n",
    "#slicing 2nd to 5th character\n",
    "print('2nd to 5th character = ',str[1:5])   # [start:end(but not including):stepcount]\n",
    "\n",
    "#slicing 6th to 2nd last character\n",
    "print('6th to 2nd last character = ',str[5:-1])"
   ]
  },
  {
   "cell_type": "code",
   "execution_count": 12,
   "metadata": {},
   "outputs": [
    {
     "ename": "IndexError",
     "evalue": "string index out of range",
     "output_type": "error",
     "traceback": [
      "\u001b[1;31m---------------------------------------------------------------------------\u001b[0m",
      "\u001b[1;31mIndexError\u001b[0m                                Traceback (most recent call last)",
      "\u001b[1;32m~\\AppData\\Local\\Temp/ipykernel_18236/2449586571.py\u001b[0m in \u001b[0;36m<module>\u001b[1;34m\u001b[0m\n\u001b[0;32m      1\u001b[0m \u001b[1;31m# index must be in range\u001b[0m\u001b[1;33m\u001b[0m\u001b[1;33m\u001b[0m\u001b[0m\n\u001b[0;32m      2\u001b[0m \u001b[0mmy_string\u001b[0m \u001b[1;33m=\u001b[0m \u001b[1;34m'jh'\u001b[0m\u001b[1;33m\u001b[0m\u001b[1;33m\u001b[0m\u001b[0m\n\u001b[1;32m----> 3\u001b[1;33m \u001b[0mprint\u001b[0m\u001b[1;33m(\u001b[0m\u001b[0mmy_string\u001b[0m\u001b[1;33m[\u001b[0m\u001b[1;36m15\u001b[0m\u001b[1;33m]\u001b[0m\u001b[1;33m)\u001b[0m        \u001b[1;31m# IndexError: string index out of range\u001b[0m\u001b[1;33m\u001b[0m\u001b[1;33m\u001b[0m\u001b[0m\n\u001b[0m\u001b[0;32m      4\u001b[0m \u001b[1;33m\u001b[0m\u001b[0m\n\u001b[0;32m      5\u001b[0m \u001b[1;31m# index must be an integer\u001b[0m\u001b[1;33m\u001b[0m\u001b[1;33m\u001b[0m\u001b[0m\n",
      "\u001b[1;31mIndexError\u001b[0m: string index out of range"
     ]
    }
   ],
   "source": [
    "# index must be in range\n",
    "my_string = 'jh'\n",
    "print(my_string[15])        # IndexError: string index out of range\n",
    "\n",
    "# index must be an integer\n",
    "print(my_string[1.5])        # TypeError: string indices must be integers"
   ]
  },
  {
   "cell_type": "markdown",
   "metadata": {},
   "source": [
    "Concatenation of Two or More Strings\n",
    "Joining of two or more strings into a single one is called concatenation.\n",
    "\n",
    "The + operator does this in Python. Simply writing two string literals together also concatenates them.\n",
    "\n",
    "The * operator can be used to repeat the string for a given number of times."
   ]
  },
  {
   "cell_type": "code",
   "execution_count": 1,
   "metadata": {},
   "outputs": [
    {
     "data": {
      "text/plain": [
       "'abcd'"
      ]
     },
     "execution_count": 1,
     "metadata": {},
     "output_type": "execute_result"
    }
   ],
   "source": [
    "'ab'+'cd'    # opeartor overloading imp feature of OOP"
   ]
  },
  {
   "cell_type": "code",
   "execution_count": 3,
   "metadata": {},
   "outputs": [
    {
     "name": "stdout",
     "output_type": "stream",
     "text": [
      "concatination =  Hello World!\n",
      "Repetation Hello Hello Hello Hello \n"
     ]
    }
   ],
   "source": [
    "# Python String Operations\n",
    "str1 = 'Hello '\n",
    "str2 ='World!'\n",
    "\n",
    "# use +\n",
    "print('concatination = ',str1 + str2)\n",
    "\n",
    "# repeat str1 4 times \n",
    "print('Repetation',str1*4)"
   ]
  },
  {
   "cell_type": "code",
   "execution_count": 4,
   "metadata": {},
   "outputs": [
    {
     "name": "stdout",
     "output_type": "stream",
     "text": [
      "H\n",
      "e\n",
      "l\n",
      "l\n",
      "o\n",
      " \n",
      "W\n",
      "o\n",
      "r\n",
      "l\n",
      "d\n"
     ]
    }
   ],
   "source": [
    "# Iterating through a string\n",
    "count = 0\n",
    "#Accept a letter as input and display its count in the string\n",
    "\n",
    "\n",
    "for letter in 'Hello World':\n",
    "    print(letter)\n",
    "    \n",
    "    \n",
    "    \n"
   ]
  },
  {
   "cell_type": "code",
   "execution_count": 5,
   "metadata": {},
   "outputs": [
    {
     "name": "stdout",
     "output_type": "stream",
     "text": [
      "True\n",
      "False\n"
     ]
    }
   ],
   "source": [
    "# String Membership Test\n",
    "print('a' in 'program')\n",
    "\n",
    "print('at' not in 'battle')\n",
    "\n",
    "#Compare if true then print it is present else print not present\n",
    "\n",
    "\n",
    "\n"
   ]
  },
  {
   "cell_type": "markdown",
   "metadata": {},
   "source": [
    "Built-in functions to Work with Python\n",
    "Various built-in functions that work with sequence work with strings as well.\n",
    "\n",
    "Some of the commonly used ones are enumerate() and len(). \n",
    "The enumerate() function returns an enumerate object. It contains the index and value of all the items in the string as pairs. This can be useful for iteration.\n",
    "\n",
    "Similarly, len() returns the length (number of characters) of the string."
   ]
  },
  {
   "cell_type": "code",
   "execution_count": 11,
   "metadata": {},
   "outputs": [
    {
     "name": "stdout",
     "output_type": "stream",
     "text": [
      "list(enumerate(str) =  [(0, 'A'), (1, 'V'), (2, 'N'), (3, 'I')]\n",
      "len(str) =  4\n"
     ]
    }
   ],
   "source": [
    "str = 'AVNI'\n",
    "\n",
    "# enumerate()\n",
    "list_enumerate = list(enumerate(str))\n",
    "print('list(enumerate(str) = ', list_enumerate)\n",
    "\n",
    "#character count\n",
    "print('len(str) = ', len(str))"
   ]
  },
  {
   "cell_type": "code",
   "execution_count": 18,
   "metadata": {},
   "outputs": [
    {
     "name": "stdout",
     "output_type": "stream",
     "text": [
      "(0, 'eat')\n",
      "(1, 'sleep')\n",
      "(2, 'repeat')\n"
     ]
    }
   ],
   "source": [
    "# enumerate function in loops\n",
    "l1 = [\"eat\",\"sleep\",\"repeat\"]\n",
    "\n",
    "# printing the tuples in object directly\n",
    "for ele in enumerate(l1):\n",
    "    print(ele)\n",
    "    #print only indexes and values\n",
    "    \n",
    "    \n",
    "    "
   ]
  },
  {
   "cell_type": "code",
   "execution_count": null,
   "metadata": {},
   "outputs": [],
   "source": [
    "\n",
    "Method\t                  #Description\n",
    "capitalize()\t          #Converts the first character to upper case\n",
    "casefold()\t              #Converts string into lower case\n",
    "center()\t              #Returns a centered string\n",
    "count()\t                  #Returns the number of times a specified value occurs in a string\n",
    "encode()\t              #Returns an encoded version of the string\n",
    "endswith()\t              #Returns true if the string ends with the specified value\n",
    "expandtabs()\t          #Sets the tab size of the string\n",
    "find()\t                  #Searches the string for a specified value and returns the position of where it was found\n",
    "format()\t              #Formats specified values in a string\n",
    "format_map()\t          #Formats specified values in a string\n",
    "index()\t                  #Searches the string for a specified value and returns the position of where it was found\n",
    "isalnum()\t              #Returns True if all characters in the string are alphanumeric\n",
    "isalpha()\t              #Returns True if all characters in the string are in the alphabet\n",
    "isdecimal()\t              #Returns True if all characters in the string are decimals\n",
    "isdigit()\t              #Returns True if all characters in the string are digits\n",
    "isidentifier()\t          #Returns True if the string is an identifier\n",
    "islower()\t              #Returns True if all characters in the string are lower case\n",
    "isnumeric()\t              #Returns True if all characters in the string are numeric\n",
    "isprintable()\t          #Returns True if all characters in the string are printable\n",
    "isspace()\t              #Returns True if all characters in the string are whitespaces\n",
    "istitle()\t              #Returns True if the string follows the rules of a title\n",
    "isupper()\t              #Returns True if all characters in the string are upper case\n",
    "join()\t                  #Joins the elements of an iterable to the end of the string\n",
    "ljust()\t                  #Returns a left justified version of the string\n",
    "lower()\t                  #Converts a string into lower case\n",
    "lstrip()\t              #Returns a left trim version of the string\n",
    "maketrans()\t              #Returns a translation table to be used in translations\n",
    "partition()\t              #Returns a tuple where the string is parted into three parts\n",
    "replace()\t              #Returns a string where a specified value is replaced with a specified value\n",
    "rfind()\t                  #Searches the string for a specified value and returns the last position of where it was found\n",
    "rindex()\t              #Searches the string for a specified value and returns the last position of where it was found\n",
    "rjust()\t                  #Returns a right justified version of the string\n",
    "rpartition()\t          #Returns a tuple where the string is parted into three parts\n",
    "rsplit()\t              #Splits the string at the specified separator, and returns a list\n",
    "rstrip()\t              #Returns a right trim version of the string\n",
    "split()\t                  #Splits the string at the specified separator, and returns a list\n",
    "splitlines()\t          #Splits the string at line breaks and returns a list\n",
    "startswith()\t          #Returns true if the string starts with the specified value\n",
    "strip()\t                  #Returns a trimmed version of the string\n",
    "swapcase()\t              #Swaps cases, lower case becomes upper case and vice versa\n",
    "title()\t                  #Converts the first character of each word to upper case\n",
    "translate()\t              #Returns a translated string\n",
    "upper()\t                  #Converts a string into upper case\n",
    "zfill()\t                  #Fills the string with a specified number of 0 values at the beginning"
   ]
  },
  {
   "cell_type": "code",
   "execution_count": 20,
   "metadata": {},
   "outputs": [
    {
     "ename": "SyntaxError",
     "evalue": "invalid syntax (<ipython-input-20-2e386b9133b1>, line 12)",
     "output_type": "error",
     "traceback": [
      "\u001b[1;36m  File \u001b[1;32m\"<ipython-input-20-2e386b9133b1>\"\u001b[1;36m, line \u001b[1;32m12\u001b[0m\n\u001b[1;33m    positional_order =\u001b[0m\n\u001b[1;37m                       ^\u001b[0m\n\u001b[1;31mSyntaxError\u001b[0m\u001b[1;31m:\u001b[0m invalid syntax\n"
     ]
    }
   ],
   "source": [
    "# The format() Method for Formatting Strings\n",
    "\n",
    "# Python string format() method\n",
    "\n",
    "# default(implicit) order  printf(\"rno=%d\",rno)\n",
    "default_order = \"{}, {} and {}\".format('Ram','Lakshman','Bharat')\n",
    "print('\\n--- Default Order ---')\n",
    "print(default_order)\n",
    "\n",
    "# order using positional argument\n",
    "# print--> Lakshman, Ram and Bharat\n",
    "positional_order = \n",
    "print('\\n--- Positional Order ---')\n",
    "print(positional_order)\n",
    "\n",
    "# order using keyword argument\n",
    "keyword_order = \"{r}, {l} and {b}\".format(l='Lakshman',b='Bharat',r='Ram')\n",
    "print('\\n--- Keyword Order ---')\n",
    "print(keyword_order)"
   ]
  },
  {
   "cell_type": "code",
   "execution_count": 21,
   "metadata": {},
   "outputs": [],
   "source": [
    "# Python program to check if a string is palindrome or not \n",
    "st = 'malayalam'\n"
   ]
  },
  {
   "cell_type": "code",
   "execution_count": 26,
   "metadata": {},
   "outputs": [
    {
     "name": "stdout",
     "output_type": "stream",
     "text": [
      "\n",
      "\n",
      "\n",
      "\n"
     ]
    }
   ],
   "source": [
    "# Extended Slices\n",
    "L= [9, 8, 7, 6, 5, 4, 3, 2, 1, 0, 8]\n",
    "\n",
    "# Negative values also work to make a copy of the same list in reverse order:\n",
    "# print(start:end(not including):step)\n",
    "\n",
    "# print the entire list using slice\n",
    "print()   \n",
    "# print the alternate elements using slice\n",
    "print()\n",
    "# print the elements in reverse\n",
    "print() \n",
    "# print the elements in reverse leaving the 1st element \n",
    "print() # reverse"
   ]
  },
  {
   "cell_type": "code",
   "execution_count": 7,
   "metadata": {},
   "outputs": [
    {
     "name": "stdout",
     "output_type": "stream",
     "text": [
      "False\n"
     ]
    }
   ],
   "source": [
    "# Python program to check if a string is palindrome or not [reverse set]\n",
    "\n",
    "str = \"malayalam\"\n",
    "\n",
    "revstr = str[::-1]\n",
    "\n",
    "print(revstr is str)\n",
    "\n"
   ]
  },
  {
   "cell_type": "code",
   "execution_count": 11,
   "metadata": {},
   "outputs": [
    {
     "data": {
      "text/plain": [
       "'How are you well done bongirwarvkrknecedu '"
      ]
     },
     "execution_count": 11,
     "metadata": {},
     "output_type": "execute_result"
    }
   ],
   "source": [
    "# Python Program to Remove Punctuations From a String define punctuation\n",
    "punctuations = '''!()-[]{};:\"'\\,<>./?@#$%^&*_~'''\n",
    "str11=\"How are you? well done! bongirwarvk@rknec.edu, \"\n",
    "\n",
    "for word in str11:\n",
    "    if word in punctuations:\n",
    "        str11 = str11.replace(word, \"\")\n",
    "\n",
    "str11"
   ]
  },
  {
   "cell_type": "code",
   "execution_count": 19,
   "metadata": {},
   "outputs": [
    {
     "data": {
      "text/plain": [
       "'Stimulate your mind as you test your typing speed with this standard English paragraph typing test Watch your typing speed and accuracy increase as you learn about a variety of new topics! Over 40 typing test selections available\\n\\nIf you don\\'t like a test prompt, you can get a different (random) prompt with the \"change test\" button - or select a specific paragraph to type from the list below To find out how fast you type, just start typing in the blank textbox on the right of the test prompt You will see your progress, including errors on the left side as you type In order to complete the test and save your score, you need to get 100 accuracy You can fix errors as you go, or correct them at the end with the help of the spell checker'"
      ]
     },
     "execution_count": 19,
     "metadata": {},
     "output_type": "execute_result"
    }
   ],
   "source": [
    "para = '''Stimulate your mind as you test your typing speed with this standard English paragraph typing test. Watch your typing speed and accuracy increase as you learn about a variety of new topics! Over 40 typing test selections available.\n",
    "\n",
    "If you don't like a test prompt, you can get a different (random) prompt with the \"change test\" button - or select a specific paragraph to type from the list below. To find out how fast you type, just start typing in the blank textbox on the right of the test prompt. You will see your progress, including errors on the left side as you type. In order to complete the test and save your score, you need to get 100 accuracy. You can fix errors as you go, or correct them at the end with the help of the spell checker.'''\n",
    "\n",
    "articlesPuncs = ['a', 'an','the','in','I','am','.','!',',','?']\n",
    "\n",
    "for word in para:\n",
    "    if word in punctuations:\n",
    "        parawopuncts = para.replace(word, \"\")\n",
    "\n",
    "# sum = 0\n",
    "\n",
    "# for word in para:\n",
    "#     pass\n",
    "    \n",
    "parawopuncts"
   ]
  },
  {
   "cell_type": "code",
   "execution_count": null,
   "metadata": {},
   "outputs": [],
   "source": []
  }
 ],
 "metadata": {
  "kernelspec": {
   "display_name": "Python 3",
   "language": "python",
   "name": "python3"
  },
  "language_info": {
   "codemirror_mode": {
    "name": "ipython",
    "version": 3
   },
   "file_extension": ".py",
   "mimetype": "text/x-python",
   "name": "python",
   "nbconvert_exporter": "python",
   "pygments_lexer": "ipython3",
   "version": "3.9.7"
  }
 },
 "nbformat": 4,
 "nbformat_minor": 2
}
